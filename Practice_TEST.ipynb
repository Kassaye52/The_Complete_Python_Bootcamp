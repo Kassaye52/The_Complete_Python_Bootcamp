{
 "cells": [
  {
   "cell_type": "code",
   "execution_count": null,
   "id": "b636265b",
   "metadata": {},
   "outputs": [],
   "source": [
    "list1 = [1,2,3,4,5,6,7,8,9,10]"
   ]
  },
  {
   "cell_type": "code",
   "execution_count": null,
   "id": "15669af5",
   "metadata": {},
   "outputs": [],
   "source": [
    "for num in list1:\n",
    "    print(num)"
   ]
  },
  {
   "cell_type": "code",
   "execution_count": null,
   "id": "eb6c7733",
   "metadata": {},
   "outputs": [],
   "source": [
    "for num in list1:\n",
    "    if num % 2 == 0:\n",
    "        print(num)\n",
    "    else:\n",
    "        print(\"This number is Odd\")"
   ]
  },
  {
   "cell_type": "code",
   "execution_count": null,
   "id": "f32b6868",
   "metadata": {},
   "outputs": [],
   "source": [
    "list_sum = 0\n",
    "\n",
    "for num in list1:\n",
    "    list_sum =  list_sum + num\n",
    "    print(list_sum)"
   ]
  },
  {
   "cell_type": "code",
   "execution_count": null,
   "id": "d0938740",
   "metadata": {},
   "outputs": [],
   "source": [
    "for num in list1:\n",
    "    list_sum = list_sum + num\n",
    "print(list_sum)"
   ]
  },
  {
   "cell_type": "code",
   "execution_count": null,
   "id": "4c640db4",
   "metadata": {},
   "outputs": [],
   "source": [
    "250*40*30"
   ]
  },
  {
   "cell_type": "code",
   "execution_count": null,
   "id": "7751797b",
   "metadata": {},
   "outputs": [],
   "source": [
    "lsum = 0\n",
    "\n",
    "for num in list1:\n",
    "    lsum += num\n",
    "print(lsum)"
   ]
  },
  {
   "cell_type": "code",
   "execution_count": null,
   "id": "9dba69e0",
   "metadata": {},
   "outputs": [],
   "source": [
    "for letter in \"This is a string\":\n",
    "    print(letter)"
   ]
  },
  {
   "cell_type": "code",
   "execution_count": null,
   "id": "bd7d4ebe",
   "metadata": {},
   "outputs": [],
   "source": [
    "tup = (1, 2, 3, 4, 5)\n",
    "\n",
    "for t in tup:\n",
    "    print(t)"
   ]
  },
  {
   "cell_type": "code",
   "execution_count": null,
   "id": "132edf00",
   "metadata": {},
   "outputs": [],
   "source": [
    "list2 = [(2,4),(6,8),(10,12)]"
   ]
  },
  {
   "cell_type": "code",
   "execution_count": null,
   "id": "8e577841",
   "metadata": {},
   "outputs": [],
   "source": [
    "for t in list2:\n",
    "    print(t)"
   ]
  },
  {
   "cell_type": "code",
   "execution_count": null,
   "id": "c858962f",
   "metadata": {},
   "outputs": [],
   "source": [
    "for (t1, t2) in list2:\n",
    "    print(t1)"
   ]
  },
  {
   "cell_type": "code",
   "execution_count": null,
   "id": "de3eb27a",
   "metadata": {},
   "outputs": [],
   "source": [
    "d = {'k1':1,'k2':2,'k3':3}"
   ]
  },
  {
   "cell_type": "code",
   "execution_count": null,
   "id": "a7adfd2f",
   "metadata": {},
   "outputs": [],
   "source": [
    "for item in d:\n",
    "    print(item)"
   ]
  },
  {
   "cell_type": "code",
   "execution_count": null,
   "id": "68c5a981",
   "metadata": {},
   "outputs": [],
   "source": [
    "d.items()"
   ]
  },
  {
   "cell_type": "code",
   "execution_count": null,
   "id": "f3215614",
   "metadata": {},
   "outputs": [],
   "source": [
    "d.keys()"
   ]
  },
  {
   "cell_type": "code",
   "execution_count": null,
   "id": "7fcdd96a",
   "metadata": {},
   "outputs": [],
   "source": [
    "d.values()"
   ]
  },
  {
   "cell_type": "code",
   "execution_count": null,
   "id": "7b8a9a6f",
   "metadata": {},
   "outputs": [],
   "source": [
    "for k,v in d.items():\n",
    "    print(k)\n",
    "    print(v)"
   ]
  },
  {
   "cell_type": "code",
   "execution_count": null,
   "id": "61e715af",
   "metadata": {},
   "outputs": [],
   "source": [
    "list(d.keys())"
   ]
  },
  {
   "cell_type": "code",
   "execution_count": null,
   "id": "41a25719",
   "metadata": {},
   "outputs": [],
   "source": [
    "list(d.values())"
   ]
  },
  {
   "cell_type": "code",
   "execution_count": null,
   "id": "e6ae642f",
   "metadata": {},
   "outputs": [],
   "source": [
    "sorted(d.values())"
   ]
  },
  {
   "cell_type": "code",
   "execution_count": null,
   "id": "e3beb38d",
   "metadata": {},
   "outputs": [],
   "source": [
    "x = 0\n",
    "\n",
    "while x < 10:\n",
    "    print(\"This is currently: \", x)\n",
    "    print(\"x is still less than 10, adding 1 to x\", x)\n",
    "    x+=1"
   ]
  },
  {
   "cell_type": "code",
   "execution_count": null,
   "id": "4926a064",
   "metadata": {},
   "outputs": [],
   "source": [
    "x = 0\n",
    "\n",
    "while x < 10:\n",
    "    print(\"This is currently: \", x)\n",
    "    print(\"x is still less than 10, adding 1 to x\", x)\n",
    "    x+=1\n",
    "else:\n",
    "    print(\"The loop is done\")"
   ]
  },
  {
   "cell_type": "code",
   "execution_count": null,
   "id": "843f4463",
   "metadata": {},
   "outputs": [],
   "source": [
    "x = 0\n",
    "\n",
    "while x < 10:\n",
    "    print(\"This is currently: \", x)\n",
    "    print(\"x is still less than 10, adding 1 to x\", x)\n",
    "    x+=1\n",
    "    if x == 3:\n",
    "        print(\"Breaking since x == 3\")\n",
    "        break\n",
    "    else:\n",
    "        print(\"Continuing ...\")\n",
    "        continue "
   ]
  },
  {
   "cell_type": "code",
   "execution_count": null,
   "id": "1263dbfd",
   "metadata": {},
   "outputs": [],
   "source": [
    "range(0,11)"
   ]
  },
  {
   "cell_type": "code",
   "execution_count": null,
   "id": "a4b0a142",
   "metadata": {},
   "outputs": [],
   "source": [
    "list(range(0,11))"
   ]
  },
  {
   "cell_type": "code",
   "execution_count": null,
   "id": "0e5e139c",
   "metadata": {},
   "outputs": [],
   "source": [
    "list(range(0,11,2))"
   ]
  },
  {
   "cell_type": "code",
   "execution_count": null,
   "id": "7137ac6c",
   "metadata": {},
   "outputs": [],
   "source": [
    "list(range(0,101,10))"
   ]
  },
  {
   "cell_type": "code",
   "execution_count": null,
   "id": "3c18c530",
   "metadata": {},
   "outputs": [],
   "source": [
    "index_count = 0\n",
    "\n",
    "for letter in \"abcde\":\n",
    "    print(\"at index {} the letter is {}\".format(index_count, letter))\n",
    "    index_count +=1"
   ]
  },
  {
   "cell_type": "code",
   "execution_count": null,
   "id": "8383b365",
   "metadata": {},
   "outputs": [],
   "source": [
    "for i, letter in enumerate(\"abcde\"):\n",
    "    print(\"at index {} the letter is {}\".format(i, letter))"
   ]
  },
  {
   "cell_type": "code",
   "execution_count": null,
   "id": "be817de0",
   "metadata": {},
   "outputs": [],
   "source": [
    "list(enumerate(\"abcde\"))"
   ]
  },
  {
   "cell_type": "code",
   "execution_count": null,
   "id": "b2921ec5",
   "metadata": {},
   "outputs": [],
   "source": [
    "mylist1 = [1,2,3,4,5]\n",
    "mylist2 = ['a','b','c','d','e']"
   ]
  },
  {
   "cell_type": "code",
   "execution_count": null,
   "id": "903a15a7",
   "metadata": {},
   "outputs": [],
   "source": [
    "# This one is also a generator! We will explain this later, but for now let's transform it to a list\n",
    "zip(mylist1,mylist2)"
   ]
  },
  {
   "cell_type": "code",
   "execution_count": null,
   "id": "62d2a221",
   "metadata": {},
   "outputs": [],
   "source": [
    "list(# This one is also a generator! We will explain this later, but for now let's transform it to a list\n",
    "zip(mylist1,mylist2))"
   ]
  },
  {
   "cell_type": "code",
   "execution_count": null,
   "id": "1b088866",
   "metadata": {},
   "outputs": [],
   "source": [
    "mylist1"
   ]
  },
  {
   "cell_type": "code",
   "execution_count": null,
   "id": "9df68a3e",
   "metadata": {},
   "outputs": [],
   "source": [
    "help(mylist1.insert)"
   ]
  },
  {
   "cell_type": "code",
   "execution_count": null,
   "id": "675f68df",
   "metadata": {},
   "outputs": [],
   "source": [
    "mylist1.insert"
   ]
  },
  {
   "cell_type": "code",
   "execution_count": null,
   "id": "fa5db225",
   "metadata": {},
   "outputs": [],
   "source": [
    "import pygame\n",
    "canvas = graphics(500, 350, 'animation')\n",
    "\n",
    "# The animation loop\n",
    "while True:\n",
    "    canvas.clear()\n",
    "    # Draw stuff for 1 frame here\n",
    "    canvas.update_frame(30)"
   ]
  },
  {
   "cell_type": "code",
   "execution_count": null,
   "id": "7fbd6f53",
   "metadata": {},
   "outputs": [],
   "source": [
    "import pygame\n",
    "\n",
    "# Initialize Pygame\n",
    "pygame.init()\n",
    "\n",
    "# Set up the drawing window\n",
    "screen = pygame.display.set_mode([500, 350])\n",
    "\n",
    "# Run until the user asks to quit\n",
    "running = True\n",
    "while running:\n",
    "    # Did the user click the window close button?\n",
    "    for event in pygame.event.get():\n",
    "        if event.type == pygame.QUIT:\n",
    "            running = False\n",
    "\n",
    "    # Fill the background with white\n",
    "    screen.fill((255, 255, 255))\n",
    "\n",
    "    # Draw a solid blue circle in the center\n",
    "    pygame.draw.circle(screen, (0, 0, 255), (250, 175), 75)\n",
    "\n",
    "    # Flip the display\n",
    "    pygame.display.flip()\n",
    "\n",
    "    # Cap the frame rate\n",
    "    pygame.time.Clock().tick(30)\n",
    "\n",
    "# Done! Time to quit.\n",
    "pygame.quit()"
   ]
  },
  {
   "cell_type": "code",
   "execution_count": 1,
   "id": "7e93a7e4",
   "metadata": {},
   "outputs": [
    {
     "name": "stdout",
     "output_type": "stream",
     "text": [
      "Flag width:\n",
      "20\n",
      "Flag height:\n",
      "8\n",
      "##########----------\n",
      "##########----------\n",
      "##########----------\n",
      "##########----------\n",
      "--------------------\n",
      "--------------------\n",
      "--------------------\n",
      "--------------------\n"
     ]
    }
   ],
   "source": [
    "# This is the solution code for PyFlo Guided Project 1\n",
    "#\n",
    "\n",
    "# Ask the user for input values and convert to integers\n",
    "width = input(\"Flag width:\\n\")\n",
    "width = int(width)\n",
    "height = input(\"Flag height:\\n\")\n",
    "height = int(height)\n",
    "\n",
    "# Calculate half of the width and height fur use in multiplication\n",
    "half_width = int(width / 2)\n",
    "half_height = int(height / 2)\n",
    "\n",
    "# Create and print the rows of the flag\n",
    "upper_row = '#' * half_width + '-' * half_width + '\\n'\n",
    "lower_row = '-' * width + '\\n'\n",
    "print(upper_row * half_height, end='')\n",
    "print(lower_row * half_height, end='')"
   ]
  },
  {
   "cell_type": "code",
   "execution_count": 2,
   "id": "a589b98f",
   "metadata": {},
   "outputs": [],
   "source": [
    "def say_hello():\n",
    "    print(\"Hello\")"
   ]
  },
  {
   "cell_type": "code",
   "execution_count": 3,
   "id": "1f77b175",
   "metadata": {},
   "outputs": [
    {
     "name": "stdout",
     "output_type": "stream",
     "text": [
      "Hello\n"
     ]
    }
   ],
   "source": [
    "say_hello()"
   ]
  },
  {
   "cell_type": "code",
   "execution_count": 8,
   "id": "d2c76140",
   "metadata": {},
   "outputs": [],
   "source": [
    "def greeting(name):\n",
    "    print(f'Hello {name}')"
   ]
  },
  {
   "cell_type": "code",
   "execution_count": 9,
   "id": "56fc3bbd",
   "metadata": {},
   "outputs": [
    {
     "name": "stdout",
     "output_type": "stream",
     "text": [
      "Hello Tsion\n"
     ]
    }
   ],
   "source": [
    "greeting(\"Tsion\")"
   ]
  },
  {
   "cell_type": "code",
   "execution_count": 10,
   "id": "390b434a",
   "metadata": {},
   "outputs": [],
   "source": [
    "def add_num(num1, num2):\n",
    "    return num1 + num2"
   ]
  },
  {
   "cell_type": "code",
   "execution_count": 11,
   "id": "7dfd3e12",
   "metadata": {},
   "outputs": [
    {
     "data": {
      "text/plain": [
       "7"
      ]
     },
     "execution_count": 11,
     "metadata": {},
     "output_type": "execute_result"
    }
   ],
   "source": [
    "add_num(3, 4)"
   ]
  },
  {
   "cell_type": "code",
   "execution_count": 12,
   "id": "cef81be9",
   "metadata": {},
   "outputs": [],
   "source": [
    "res = add_num(3,4)"
   ]
  },
  {
   "cell_type": "code",
   "execution_count": 13,
   "id": "91cfdba9",
   "metadata": {},
   "outputs": [
    {
     "data": {
      "text/plain": [
       "7"
      ]
     },
     "execution_count": 13,
     "metadata": {},
     "output_type": "execute_result"
    }
   ],
   "source": [
    "res"
   ]
  },
  {
   "cell_type": "code",
   "execution_count": 14,
   "id": "691ac72c",
   "metadata": {},
   "outputs": [],
   "source": [
    "def even_check(number):\n",
    "    return number % 2 == 0"
   ]
  },
  {
   "cell_type": "code",
   "execution_count": 15,
   "id": "257e3a27",
   "metadata": {},
   "outputs": [
    {
     "data": {
      "text/plain": [
       "True"
      ]
     },
     "execution_count": 15,
     "metadata": {},
     "output_type": "execute_result"
    }
   ],
   "source": [
    "even_check(20)"
   ]
  },
  {
   "cell_type": "code",
   "execution_count": 16,
   "id": "3c1410e7",
   "metadata": {},
   "outputs": [
    {
     "data": {
      "text/plain": [
       "False"
      ]
     },
     "execution_count": 16,
     "metadata": {},
     "output_type": "execute_result"
    }
   ],
   "source": [
    "even_check(23)"
   ]
  },
  {
   "cell_type": "code",
   "execution_count": 17,
   "id": "ed28ea36",
   "metadata": {},
   "outputs": [],
   "source": [
    "def even_check_list(eve_list):\n",
    "    for num in eve_list:\n",
    "        if num % 2 == 0:\n",
    "            return True\n",
    "        else:\n",
    "            pass"
   ]
  },
  {
   "cell_type": "code",
   "execution_count": 18,
   "id": "a0deda74",
   "metadata": {},
   "outputs": [
    {
     "data": {
      "text/plain": [
       "True"
      ]
     },
     "execution_count": 18,
     "metadata": {},
     "output_type": "execute_result"
    }
   ],
   "source": [
    "even_check_list([1,2,3])"
   ]
  },
  {
   "cell_type": "code",
   "execution_count": 19,
   "id": "1a71644f",
   "metadata": {},
   "outputs": [
    {
     "data": {
      "text/plain": [
       "True"
      ]
     },
     "execution_count": 19,
     "metadata": {},
     "output_type": "execute_result"
    }
   ],
   "source": [
    "even_check_list([246])"
   ]
  },
  {
   "cell_type": "code",
   "execution_count": 20,
   "id": "5e82e0d7",
   "metadata": {},
   "outputs": [],
   "source": [
    "def check_even_list(num_list):\n",
    "    \n",
    "    even_num = []\n",
    "    \n",
    "    for num in num_list:\n",
    "        if num % 2 == 0:\n",
    "            even_num.append(num)\n",
    "        else:\n",
    "            pass\n",
    "    return even_num"
   ]
  },
  {
   "cell_type": "code",
   "execution_count": 21,
   "id": "93c13d68",
   "metadata": {},
   "outputs": [
    {
     "data": {
      "text/plain": [
       "[2, 4, 6, 8]"
      ]
     },
     "execution_count": 21,
     "metadata": {},
     "output_type": "execute_result"
    }
   ],
   "source": [
    "check_even_list([1, 2, 3, 4, 5, 6, 7, 8])"
   ]
  },
  {
   "cell_type": "code",
   "execution_count": 22,
   "id": "d252ee8b",
   "metadata": {},
   "outputs": [],
   "source": [
    "work_hours = [('Abby',100),('Billy',400),('Cassie',800)]"
   ]
  },
  {
   "cell_type": "code",
   "execution_count": 27,
   "id": "7db16ff7",
   "metadata": {},
   "outputs": [],
   "source": [
    "def employee_check(work_hours):\n",
    "    current_max = 0\n",
    "    employee_of_month = ''\n",
    "    for employee, hours in work_hours:\n",
    "        if current_max < hours:\n",
    "            current_max = hours\n",
    "            employee_of_month = employee\n",
    "        else:\n",
    "            pass\n",
    "    return (employee_of_month, hours)"
   ]
  },
  {
   "cell_type": "code",
   "execution_count": 28,
   "id": "34a1b957",
   "metadata": {},
   "outputs": [
    {
     "data": {
      "text/plain": [
       "('Cassie', 800)"
      ]
     },
     "execution_count": 28,
     "metadata": {},
     "output_type": "execute_result"
    }
   ],
   "source": [
    "employee_check(work_hours)"
   ]
  },
  {
   "cell_type": "code",
   "execution_count": 29,
   "id": "91f2056b",
   "metadata": {},
   "outputs": [
    {
     "name": "stdout",
     "output_type": "stream",
     "text": [
      "True\n",
      "False\n",
      "True\n"
     ]
    }
   ],
   "source": [
    "def sleep_in(weekday, vacation):\n",
    "    # We can sleep in if it's not a weekday or we're on vacation\n",
    "    return not weekday or vacation\n",
    "\n",
    "# Test cases\n",
    "print(sleep_in(False, False))  # Expected: True, because it's not a weekday\n",
    "print(sleep_in(True, False))   # Expected: False, because it's a weekday and we're not on vacation\n",
    "print(sleep_in(False, True))   # Expected: True, because we're on vacation\n"
   ]
  },
  {
   "cell_type": "code",
   "execution_count": 32,
   "id": "1d92d81a",
   "metadata": {},
   "outputs": [],
   "source": [
    "def monkey_trouble(a_smile, b_smile):\n",
    "  if a_smile == True and b_smile == True:\n",
    "    return True\n",
    "  elif a_smile == False and b_smile == False:\n",
    "    return True\n",
    "  else:\n",
    "    return False"
   ]
  },
  {
   "cell_type": "code",
   "execution_count": 33,
   "id": "363d18c1",
   "metadata": {},
   "outputs": [
    {
     "name": "stdout",
     "output_type": "stream",
     "text": [
      "True\n"
     ]
    }
   ],
   "source": [
    "print(monkey_trouble(True, True))"
   ]
  },
  {
   "cell_type": "code",
   "execution_count": 34,
   "id": "057bce77",
   "metadata": {},
   "outputs": [
    {
     "name": "stdout",
     "output_type": "stream",
     "text": [
      "True\n"
     ]
    }
   ],
   "source": [
    "print(monkey_trouble(False, False))"
   ]
  },
  {
   "cell_type": "code",
   "execution_count": 35,
   "id": "cce46b69",
   "metadata": {},
   "outputs": [
    {
     "name": "stdout",
     "output_type": "stream",
     "text": [
      "False\n"
     ]
    }
   ],
   "source": [
    "print(monkey_trouble(True, False))"
   ]
  },
  {
   "cell_type": "code",
   "execution_count": 1,
   "id": "4aa80452",
   "metadata": {},
   "outputs": [],
   "source": [
    "# Functions #1: print Hello World\n",
    "# Write a function called myfunc that prints the string 'Hello World'.\n",
    "def myfunc():\n",
    "    print(\"Hello World\")"
   ]
  },
  {
   "cell_type": "code",
   "execution_count": 2,
   "id": "012c389c",
   "metadata": {},
   "outputs": [
    {
     "name": "stdout",
     "output_type": "stream",
     "text": [
      "Hello World\n"
     ]
    }
   ],
   "source": [
    "myfunc()"
   ]
  },
  {
   "cell_type": "markdown",
   "id": "b6ac2ae1",
   "metadata": {},
   "source": [
    "## Functions #2: print Hello Name\n",
    "Define a function called myfunc that takes in a name, and prints 'Hello Name' \n",
    "\n",
    "NOTE: Define the function, but do not run it!\n",
    "\n",
    "Also, do not use f-strings, as they are not supported in this Coding Exercise.\n",
    "\n",
    "For example:\n",
    "\n",
    "    def myfunc(name):\n",
    "        print('My name is {}'.format(name))\n",
    "\n",
    "\n",
    "Remember, do not run the function! However, if we were to pass in a name, it would look like this:\n",
    "\n",
    "myfunc('Jose')"
   ]
  },
  {
   "cell_type": "code",
   "execution_count": 5,
   "id": "cb73ebb0",
   "metadata": {},
   "outputs": [],
   "source": [
    "def myfunc(name):\n",
    "    print(\"Hello\", name)"
   ]
  },
  {
   "cell_type": "code",
   "execution_count": 7,
   "id": "fc723d2e",
   "metadata": {},
   "outputs": [
    {
     "name": "stdout",
     "output_type": "stream",
     "text": [
      "Hello Tsion\n"
     ]
    }
   ],
   "source": [
    "myfunc(\"Tsion\")"
   ]
  },
  {
   "cell_type": "markdown",
   "id": "31e04ec1",
   "metadata": {},
   "source": [
    "## Functions #3 - simple Boolean\n",
    "Define a function called myfunc that takes in a Boolean value (True or False). If True, return 'Hello', and if False, return 'Goodbye'\n",
    "\n",
    "Remember, don't run the function, simply provide the definition.\n",
    "\n",
    "For example, a function that returns 'Inside' if a is True and 'Outside' if a is False could look like:\n",
    "\n",
    "    def myfunc(a):\n",
    "        if a == True:\n",
    "            return 'Inside'\n",
    "        elif a == False:\n",
    "            return 'Outside'\n",
    "    This is all you need to enter!\n",
    "\n",
    "To give an idea what the above function would look like when tested:\n",
    "\n",
    "myfunc(False)\n",
    "# Output: 'Outside'"
   ]
  },
  {
   "cell_type": "code",
   "execution_count": 10,
   "id": "e4ff4a64",
   "metadata": {},
   "outputs": [],
   "source": [
    "def myfunc(boole):\n",
    "    if boole == True:\n",
    "        return \"Hello\"\n",
    "    else:\n",
    "        return \"Goodbye\""
   ]
  },
  {
   "cell_type": "code",
   "execution_count": 11,
   "id": "1ef4bdcb",
   "metadata": {},
   "outputs": [
    {
     "data": {
      "text/plain": [
       "'Goodbye'"
      ]
     },
     "execution_count": 11,
     "metadata": {},
     "output_type": "execute_result"
    }
   ],
   "source": [
    "myfunc(False)"
   ]
  },
  {
   "cell_type": "markdown",
   "id": "696be878",
   "metadata": {},
   "source": [
    "## Functions #4 - using Booleans\n",
    "Define a function called myfunc that takes three arguments, x, y and z.\n",
    "If z is True, return x.  If z is False, return y.\n",
    "\n",
    "Remember, don't run the function, simply provide the definition.\n",
    "\n",
    "For example, a function that returns a if c is True and b if c is False might look like:\n",
    "\n",
    "    def myfunc(a,b,c):\n",
    "        if c == True:\n",
    "            return a\n",
    "        else:\n",
    "            return b\n",
    "This is all you need to enter!\n",
    "\n",
    "To give an idea what the function would look like when tested:\n",
    "\n",
    "myfunc('Hello','Goodbye',False)\n",
    "# Output: 'Goodbye'"
   ]
  },
  {
   "cell_type": "code",
   "execution_count": 12,
   "id": "d74ef97e",
   "metadata": {},
   "outputs": [],
   "source": [
    "def myfunc(x, y, z):\n",
    "    if z == True:\n",
    "        return x\n",
    "    elif z == False:\n",
    "        return y\n",
    "    else:\n",
    "        pass"
   ]
  },
  {
   "cell_type": "code",
   "execution_count": 13,
   "id": "ee8c17a1",
   "metadata": {},
   "outputs": [
    {
     "data": {
      "text/plain": [
       "2"
      ]
     },
     "execution_count": 13,
     "metadata": {},
     "output_type": "execute_result"
    }
   ],
   "source": [
    "myfunc(1, 2, False)"
   ]
  },
  {
   "cell_type": "markdown",
   "id": "42cb7fae",
   "metadata": {},
   "source": [
    "## Functions #6: is even\n",
    "Define a function called is_even that takes in one argument, and returns True if the passed-in value is even, False if it is not."
   ]
  },
  {
   "cell_type": "code",
   "execution_count": 14,
   "id": "d2fc05de",
   "metadata": {},
   "outputs": [],
   "source": [
    "def is_even(a):\n",
    "    if a % 2 == 0:\n",
    "        return True\n",
    "    elif a % 2 != 0:\n",
    "        return False"
   ]
  },
  {
   "cell_type": "code",
   "execution_count": 15,
   "id": "b7b7bdea",
   "metadata": {},
   "outputs": [
    {
     "data": {
      "text/plain": [
       "True"
      ]
     },
     "execution_count": 15,
     "metadata": {},
     "output_type": "execute_result"
    }
   ],
   "source": [
    "is_even(12)"
   ]
  },
  {
   "cell_type": "markdown",
   "id": "f4d48730",
   "metadata": {},
   "source": [
    "## Functions #7: is greater\n",
    "Define a function called is_greater that takes in two arguments, and returns True if the first value is greater than the second, False if it is less than or equal to the second."
   ]
  },
  {
   "cell_type": "code",
   "execution_count": 16,
   "id": "4262fef7",
   "metadata": {},
   "outputs": [],
   "source": [
    "def is_greater(a, b):\n",
    "    if a > b:\n",
    "        return True\n",
    "    else:\n",
    "        return False"
   ]
  },
  {
   "cell_type": "code",
   "execution_count": 17,
   "id": "3deda77a",
   "metadata": {},
   "outputs": [
    {
     "data": {
      "text/plain": [
       "False"
      ]
     },
     "execution_count": 17,
     "metadata": {},
     "output_type": "execute_result"
    }
   ],
   "source": [
    "is_greater(2, 6)"
   ]
  },
  {
   "cell_type": "code",
   "execution_count": 18,
   "id": "51c3455e",
   "metadata": {},
   "outputs": [
    {
     "data": {
      "text/plain": [
       "True"
      ]
     },
     "execution_count": 18,
     "metadata": {},
     "output_type": "execute_result"
    }
   ],
   "source": [
    "is_greater(6,4)"
   ]
  },
  {
   "cell_type": "markdown",
   "id": "c26f52a3",
   "metadata": {},
   "source": [
    "#### ALMOST THERE: Given an integer n, return True if n is within 10 of either 100 or 200\n",
    "\n",
    "    almost_there(90) --> True\n",
    "    almost_there(104) --> True\n",
    "    almost_there(150) --> False\n",
    "    almost_there(209) --> True\n",
    "    \n",
    "NOTE: `abs(num)` returns the absolute value of a number"
   ]
  },
  {
   "cell_type": "code",
   "execution_count": 24,
   "id": "86611b7b",
   "metadata": {},
   "outputs": [],
   "source": [
    "def almost_there(n):\n",
    "    if abs(n - 100) <= 10 or abs(n - 200) <= 10:\n",
    "        return True\n",
    "    else:\n",
    "        return False"
   ]
  },
  {
   "cell_type": "code",
   "execution_count": 25,
   "id": "35f5465b",
   "metadata": {},
   "outputs": [
    {
     "data": {
      "text/plain": [
       "True"
      ]
     },
     "execution_count": 25,
     "metadata": {},
     "output_type": "execute_result"
    }
   ],
   "source": [
    "almost_there(90)"
   ]
  },
  {
   "cell_type": "code",
   "execution_count": 26,
   "id": "752ce4ab",
   "metadata": {},
   "outputs": [
    {
     "data": {
      "text/plain": [
       "True"
      ]
     },
     "execution_count": 26,
     "metadata": {},
     "output_type": "execute_result"
    }
   ],
   "source": [
    "almost_there(104)"
   ]
  },
  {
   "cell_type": "code",
   "execution_count": 27,
   "id": "253cadf4",
   "metadata": {},
   "outputs": [
    {
     "data": {
      "text/plain": [
       "False"
      ]
     },
     "execution_count": 27,
     "metadata": {},
     "output_type": "execute_result"
    }
   ],
   "source": [
    "almost_there(150)"
   ]
  },
  {
   "cell_type": "code",
   "execution_count": 28,
   "id": "2f03a41f",
   "metadata": {},
   "outputs": [
    {
     "data": {
      "text/plain": [
       "True"
      ]
     },
     "execution_count": 28,
     "metadata": {},
     "output_type": "execute_result"
    }
   ],
   "source": [
    "almost_there(209)"
   ]
  },
  {
   "cell_type": "markdown",
   "id": "dccbe70c",
   "metadata": {},
   "source": [
    "#### FIND 33: \n",
    "\n",
    "Given a list of ints, return True if the array contains a 3 next to a 3 somewhere.\n",
    "\n",
    "    has_33([1, 3, 3]) → True\n",
    "    has_33([1, 3, 1, 3]) → False\n",
    "    has_33([3, 1, 3]) → False"
   ]
  },
  {
   "cell_type": "code",
   "execution_count": 49,
   "id": "7159b7cb",
   "metadata": {},
   "outputs": [],
   "source": [
    "def has_33(lst):\n",
    "    for i in range(len(lst) - 1):\n",
    "        if lst[i] == 3 and lst[i + 1] == 3:\n",
    "            return True\n",
    "        else: \n",
    "            return False"
   ]
  },
  {
   "cell_type": "code",
   "execution_count": 41,
   "id": "b5158cb3",
   "metadata": {},
   "outputs": [
    {
     "name": "stdout",
     "output_type": "stream",
     "text": [
      "False\n",
      "True\n"
     ]
    }
   ],
   "source": [
    "def has_33(lst):\n",
    "    for i in range(len(lst) - 1):  # Iterate over indices, stopping at the second-to-last element\n",
    "        if lst[i] == 3 and lst[i + 1] == 3:\n",
    "            return True\n",
    "    return False\n",
    "\n",
    "# Example usage\n",
    "print(has_33([3, 1, 3]))  # Should return False\n",
    "print(has_33([3, 3, 1]))  # Should return True\n"
   ]
  },
  {
   "cell_type": "code",
   "execution_count": 50,
   "id": "186f95c8",
   "metadata": {},
   "outputs": [
    {
     "data": {
      "text/plain": [
       "False"
      ]
     },
     "execution_count": 50,
     "metadata": {},
     "output_type": "execute_result"
    }
   ],
   "source": [
    "has_33([1, 3, 3])"
   ]
  },
  {
   "cell_type": "code",
   "execution_count": 51,
   "id": "70eba103",
   "metadata": {},
   "outputs": [
    {
     "data": {
      "text/plain": [
       "False"
      ]
     },
     "execution_count": 51,
     "metadata": {},
     "output_type": "execute_result"
    }
   ],
   "source": [
    "has_33([1, 3, 1, 3])"
   ]
  },
  {
   "cell_type": "code",
   "execution_count": 52,
   "id": "29a2d5e4",
   "metadata": {},
   "outputs": [
    {
     "data": {
      "text/plain": [
       "False"
      ]
     },
     "execution_count": 52,
     "metadata": {},
     "output_type": "execute_result"
    }
   ],
   "source": [
    "has_33([3, 1, 3])"
   ]
  },
  {
   "cell_type": "markdown",
   "id": "9279e4a4",
   "metadata": {},
   "source": [
    "#### PAPER DOLL: Given a string, return a string where for every character in the original there are three characters\n",
    "    paper_doll('Hello') --> 'HHHeeellllllooo'\n",
    "    paper_doll('Mississippi') --> 'MMMiiissssssiiippppppiii'"
   ]
  },
  {
   "cell_type": "code",
   "execution_count": 71,
   "id": "daed5ab7",
   "metadata": {},
   "outputs": [],
   "source": [
    "def paper_doll(word):\n",
    "    result = ''\n",
    "    for char in word:\n",
    "        result += char * 3\n",
    "    return result"
   ]
  },
  {
   "cell_type": "code",
   "execution_count": 73,
   "id": "d7bc063a",
   "metadata": {},
   "outputs": [
    {
     "data": {
      "text/plain": [
       "'HHHeeellllllooo'"
      ]
     },
     "execution_count": 73,
     "metadata": {},
     "output_type": "execute_result"
    }
   ],
   "source": [
    "paper_doll('Hello')"
   ]
  },
  {
   "cell_type": "code",
   "execution_count": 75,
   "id": "b92a107c",
   "metadata": {},
   "outputs": [
    {
     "data": {
      "text/plain": [
       "'MMMiiissssssiiissssssiiippppppiii'"
      ]
     },
     "execution_count": 75,
     "metadata": {},
     "output_type": "execute_result"
    }
   ],
   "source": [
    "paper_doll('Mississippi')"
   ]
  },
  {
   "cell_type": "markdown",
   "id": "712d448b",
   "metadata": {},
   "source": [
    "#### BLACKJACK: Given three integers between 1 and 11, if their sum is less than or equal to 21, return their sum. If their sum exceeds 21 *and* there's an eleven, reduce the total sum by 10. Finally, if the sum (even after adjustment) exceeds 21, return 'BUST'\n",
    "    blackjack(5,6,7) --> 18\n",
    "    blackjack(9,9,9) --> 'BUST'\n",
    "    blackjack(9,9,11) --> 19"
   ]
  },
  {
   "cell_type": "code",
   "execution_count": 80,
   "id": "a09f2cbf",
   "metadata": {},
   "outputs": [],
   "source": [
    "def blackjack(a, b, c):\n",
    "    if a + b + c <= 21:\n",
    "        return a + b + c\n",
    "    elif a + b + c >= 21 and (a + b + c) % 2 == 0:\n",
    "        return (a + b + c) - 10\n",
    "    elif (a + b + c) - 10 > 21:\n",
    "        return \"BUST\"\n",
    "    else: \n",
    "        return \"Fail\""
   ]
  },
  {
   "cell_type": "code",
   "execution_count": 84,
   "id": "41a754c3",
   "metadata": {},
   "outputs": [],
   "source": [
    "def blackjack(a, b, c):\n",
    "    total = a + b + c\n",
    "    # Check if the sum is 21 or less\n",
    "    if total <= 21:\n",
    "        return total\n",
    "    # If the sum exceeds 21 and there's an Ace (represented by 11)\n",
    "    elif 11 in [a, b, c] and total - 10 <= 21:\n",
    "        return total - 10\n",
    "    # If the sum exceeds 21 even after adjusting for Ace\n",
    "    else:\n",
    "        return \"BUST\""
   ]
  },
  {
   "cell_type": "code",
   "execution_count": 85,
   "id": "5f15c0e0",
   "metadata": {},
   "outputs": [
    {
     "data": {
      "text/plain": [
       "18"
      ]
     },
     "execution_count": 85,
     "metadata": {},
     "output_type": "execute_result"
    }
   ],
   "source": [
    "blackjack(5,6,7)"
   ]
  },
  {
   "cell_type": "code",
   "execution_count": 86,
   "id": "37c3fecd",
   "metadata": {},
   "outputs": [
    {
     "data": {
      "text/plain": [
       "'BUST'"
      ]
     },
     "execution_count": 86,
     "metadata": {},
     "output_type": "execute_result"
    }
   ],
   "source": [
    "blackjack(9,9,9)"
   ]
  },
  {
   "cell_type": "code",
   "execution_count": 87,
   "id": "ef832790",
   "metadata": {},
   "outputs": [
    {
     "data": {
      "text/plain": [
       "19"
      ]
     },
     "execution_count": 87,
     "metadata": {},
     "output_type": "execute_result"
    }
   ],
   "source": [
    "blackjack(9,9,11)"
   ]
  },
  {
   "cell_type": "markdown",
   "id": "000b6a18",
   "metadata": {},
   "source": [
    "#### SUMMER OF '69: Return the sum of the numbers in the array, except ignore sections of numbers starting with a 6 and extending to the next 9 (every 6 will be followed by at least one 9). Return 0 for no numbers.\n",
    " \n",
    "    summer_69([1, 3, 5]) --> 9\n",
    "    summer_69([4, 5, 6, 7, 8, 9]) --> 9\n",
    "    summer_69([2, 1, 6, 9, 11]) --> 14"
   ]
  },
  {
   "cell_type": "code",
   "execution_count": 88,
   "id": "2d5e59c8",
   "metadata": {},
   "outputs": [],
   "source": [
    "def summer_69(num):\n",
    "    exclude = [6, 7, 8, 9]\n",
    "    total = sum(n for n in num if n not in exclude)\n",
    "    return total "
   ]
  },
  {
   "cell_type": "code",
   "execution_count": 89,
   "id": "f9d4e92d",
   "metadata": {},
   "outputs": [
    {
     "data": {
      "text/plain": [
       "9"
      ]
     },
     "execution_count": 89,
     "metadata": {},
     "output_type": "execute_result"
    }
   ],
   "source": [
    "summer_69([1, 3, 5])"
   ]
  },
  {
   "cell_type": "code",
   "execution_count": 90,
   "id": "480beeab",
   "metadata": {},
   "outputs": [
    {
     "data": {
      "text/plain": [
       "9"
      ]
     },
     "execution_count": 90,
     "metadata": {},
     "output_type": "execute_result"
    }
   ],
   "source": [
    "summer_69([4, 5, 6, 7, 8, 9])"
   ]
  },
  {
   "cell_type": "code",
   "execution_count": 91,
   "id": "960acd32",
   "metadata": {},
   "outputs": [
    {
     "data": {
      "text/plain": [
       "14"
      ]
     },
     "execution_count": 91,
     "metadata": {},
     "output_type": "execute_result"
    }
   ],
   "source": [
    "summer_69([2, 1, 6, 9, 11])"
   ]
  },
  {
   "cell_type": "markdown",
   "id": "a25d35f2",
   "metadata": {},
   "source": [
    "#### SPY GAME: Write a function that takes in a list of integers and returns True if it contains 007 in order\n",
    "\n",
    "     spy_game([1,2,4,0,0,7,5]) --> True\n",
    "     spy_game([1,0,2,4,0,5,7]) --> True\n",
    "     spy_game([1,7,2,0,4,5,0]) --> False"
   ]
  },
  {
   "cell_type": "code",
   "execution_count": 94,
   "id": "67dfb299",
   "metadata": {},
   "outputs": [],
   "source": [
    "def spy_game(number):\n",
    "    check = [0,0,7]\n",
    "    for i in range(len(number) - 2):\n",
    "        if number[i] == 1 and number[i + 1] == 1 and number[i + 2] == 1:\n",
    "            return True\n",
    "    return False"
   ]
  },
  {
   "cell_type": "code",
   "execution_count": 95,
   "id": "babea29b",
   "metadata": {},
   "outputs": [
    {
     "data": {
      "text/plain": [
       "False"
      ]
     },
     "execution_count": 95,
     "metadata": {},
     "output_type": "execute_result"
    }
   ],
   "source": [
    "spy_game([1,2,4,0,0,7,5])"
   ]
  },
  {
   "cell_type": "code",
   "execution_count": 97,
   "id": "76b50207",
   "metadata": {},
   "outputs": [],
   "source": [
    "def has_three_consecutive_ones(lst):\n",
    "    for i in range(len(lst) - 2):\n",
    "        if lst[i] == 1 and lst[i + 1] == 1 and lst[i + 2] == 1:\n",
    "            return True\n",
    "    return False"
   ]
  },
  {
   "cell_type": "code",
   "execution_count": 98,
   "id": "b7a41ca4",
   "metadata": {},
   "outputs": [
    {
     "data": {
      "text/plain": [
       "False"
      ]
     },
     "execution_count": 98,
     "metadata": {},
     "output_type": "execute_result"
    }
   ],
   "source": [
    "has_three_consecutive_ones([1,2,4,0,0,7,5])"
   ]
  },
  {
   "cell_type": "markdown",
   "id": "9f8cfe65",
   "metadata": {},
   "source": [
    "#### COUNT PRIMES: Write a function that returns the *number* of prime numbers that exist up to and including a given number\n",
    "    count_primes(100) --> 25\n",
    "\n",
    "By convention, 0 and 1 are not prime."
   ]
  },
  {
   "cell_type": "code",
   "execution_count": 109,
   "id": "898cdae8",
   "metadata": {},
   "outputs": [],
   "source": [
    "def is_prime(n):\n",
    "    \"\"\"Check if a number is a prime.\"\"\"\n",
    "    if n <= 1:\n",
    "        return False\n",
    "    for i in range(2, int(n**0.5) + 1):\n",
    "        if n % i == 0:\n",
    "            return False\n",
    "    return True\n",
    "\n",
    "def count_primes(num):\n",
    "    \"\"\"Count how many prime numbers are there up to num.\"\"\"\n",
    "    count = 0\n",
    "    for i in range(2, num + 1):\n",
    "        if is_prime(i):\n",
    "            count += 1\n",
    "    return count"
   ]
  },
  {
   "cell_type": "code",
   "execution_count": 112,
   "id": "ec7b9256",
   "metadata": {},
   "outputs": [
    {
     "name": "stdout",
     "output_type": "stream",
     "text": [
      "25\n"
     ]
    }
   ],
   "source": [
    "print(count_primes(100))"
   ]
  },
  {
   "cell_type": "markdown",
   "id": "98c53f25",
   "metadata": {},
   "source": [
    "## Define a function called myfunc that takes in an arbitrary number of arguments, and returns the sum of those arguments."
   ]
  },
  {
   "cell_type": "code",
   "execution_count": 113,
   "id": "10ed387d",
   "metadata": {},
   "outputs": [],
   "source": [
    "def myfunc(*args):\n",
    "    return sum(args)"
   ]
  },
  {
   "cell_type": "code",
   "execution_count": 114,
   "id": "df358b6c",
   "metadata": {},
   "outputs": [
    {
     "data": {
      "text/plain": [
       "10"
      ]
     },
     "execution_count": 114,
     "metadata": {},
     "output_type": "execute_result"
    }
   ],
   "source": [
    "myfunc(1,2,3,4)"
   ]
  },
  {
   "cell_type": "markdown",
   "id": "9a4dd380",
   "metadata": {},
   "source": [
    "## Functions #9: pick evens\n",
    "Define a function called myfunc that takes in an arbitrary number of arguments, and returns a list containing only those arguments that are even."
   ]
  },
  {
   "cell_type": "code",
   "execution_count": 124,
   "id": "cad1d1ef",
   "metadata": {},
   "outputs": [],
   "source": [
    "def myfunc(*args):\n",
    "    lst = []\n",
    "    for arg in args:\n",
    "        if arg % 2 == 0:\n",
    "            lst.append(arg)\n",
    "    return lst"
   ]
  },
  {
   "cell_type": "code",
   "execution_count": 125,
   "id": "83e02339",
   "metadata": {},
   "outputs": [
    {
     "data": {
      "text/plain": [
       "[2, 4]"
      ]
     },
     "execution_count": 125,
     "metadata": {},
     "output_type": "execute_result"
    }
   ],
   "source": [
    "myfunc(1,2,3,4)"
   ]
  },
  {
   "cell_type": "markdown",
   "id": "5bc17c3a",
   "metadata": {},
   "source": [
    "## Functions #10: skyline\n",
    "Define a function called myfunc that takes in a string, and returns a matching string where every even letter is uppercase, and every odd letter is lowercase. Assume that the incoming string only contains letters, and don't worry about numbers, spaces or punctuation. The output string can start with either an uppercase or lowercase letter, so long as letters alternate throughout the string."
   ]
  },
  {
   "cell_type": "code",
   "execution_count": 131,
   "id": "41c884a1",
   "metadata": {},
   "outputs": [
    {
     "ename": "SyntaxError",
     "evalue": "invalid syntax (2505042446.py, line 7)",
     "output_type": "error",
     "traceback": [
      "\u001b[0;36m  File \u001b[0;32m\"/var/folders/76/xs74b8wd5y1d4jslcyz534sh0000gn/T/ipykernel_2542/2505042446.py\"\u001b[0;36m, line \u001b[0;32m7\u001b[0m\n\u001b[0;31m    return += s[i]\u001b[0m\n\u001b[0m           ^\u001b[0m\n\u001b[0;31mSyntaxError\u001b[0m\u001b[0;31m:\u001b[0m invalid syntax\n"
     ]
    }
   ],
   "source": [
    "def myfunc(s):\n",
    "    result = ''\n",
    "    for i in range(len(s)):\n",
    "        if i % 2 == 0:\n",
    "            result += s[i].upper()\n",
    "        else:\n",
    "            return += s[i]\n",
    "    return result\n",
    "            "
   ]
  },
  {
   "cell_type": "code",
   "execution_count": 133,
   "id": "b9deead2",
   "metadata": {},
   "outputs": [],
   "source": [
    "def myfunc(s):\n",
    "    result = ''\n",
    "    for i in range(len(s)):\n",
    "        if i % 2 == 0:\n",
    "            result += s[i].upper()  \n",
    "        else:\n",
    "            result += s[i] \n",
    "    return result"
   ]
  },
  {
   "cell_type": "code",
   "execution_count": 134,
   "id": "15909f5e",
   "metadata": {},
   "outputs": [
    {
     "data": {
      "text/plain": [
       "'HeLlO'"
      ]
     },
     "execution_count": 134,
     "metadata": {},
     "output_type": "execute_result"
    }
   ],
   "source": [
    "myfunc(\"hello\")"
   ]
  },
  {
   "cell_type": "code",
   "execution_count": 126,
   "id": "040e09e9",
   "metadata": {},
   "outputs": [
    {
     "name": "stdout",
     "output_type": "stream",
     "text": [
      "Even indices: Hlool\n",
      "Odd indices: elWrd\n"
     ]
    }
   ],
   "source": [
    "def separate_even_odd_indices(s):\n",
    "    even_indices = \"\"\n",
    "    odd_indices = \"\"\n",
    "\n",
    "    for i in range(len(s)):\n",
    "        if i % 2 == 0:  # Even index\n",
    "            even_indices += s[i]\n",
    "        else:           # Odd index\n",
    "            odd_indices += s[i]\n",
    "\n",
    "    return even_indices, odd_indices\n",
    "\n",
    "# Example usage\n",
    "even, odd = separate_even_odd_indices(\"HelloWorld\")\n",
    "print(\"Even indices:\", even)  # Characters at indices 0, 2, 4, ...\n",
    "print(\"Odd indices:\", odd)    # Characters at indices 1, 3, 5, ..."
   ]
  },
  {
   "cell_type": "code",
   "execution_count": null,
   "id": "b001e9d0",
   "metadata": {},
   "outputs": [],
   "source": []
  }
 ],
 "metadata": {
  "kernelspec": {
   "display_name": "Python 3 (ipykernel)",
   "language": "python",
   "name": "python3"
  },
  "language_info": {
   "codemirror_mode": {
    "name": "ipython",
    "version": 3
   },
   "file_extension": ".py",
   "mimetype": "text/x-python",
   "name": "python",
   "nbconvert_exporter": "python",
   "pygments_lexer": "ipython3",
   "version": "3.9.7"
  }
 },
 "nbformat": 4,
 "nbformat_minor": 5
}

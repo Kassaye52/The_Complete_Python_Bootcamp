{
 "cells": [
  {
   "cell_type": "code",
   "execution_count": null,
   "id": "a113059e",
   "metadata": {},
   "outputs": [],
   "source": [
    "list1 = [1,2,3,4,5,6,7,8,9,10]"
   ]
  },
  {
   "cell_type": "code",
   "execution_count": null,
   "id": "2d439c8c",
   "metadata": {},
   "outputs": [],
   "source": [
    "for num in list1:\n",
    "    print(num)"
   ]
  },
  {
   "cell_type": "code",
   "execution_count": null,
   "id": "e3f45653",
   "metadata": {},
   "outputs": [],
   "source": [
    "for num in list1:\n",
    "    if num % 2 == 0:\n",
    "        print(num)\n",
    "    else:\n",
    "        print(\"This number is Odd\")"
   ]
  },
  {
   "cell_type": "code",
   "execution_count": null,
   "id": "0ea4dc6f",
   "metadata": {},
   "outputs": [],
   "source": [
    "list_sum = 0\n",
    "\n",
    "for num in list1:\n",
    "    list_sum =  list_sum + num\n",
    "    print(list_sum)"
   ]
  },
  {
   "cell_type": "code",
   "execution_count": null,
   "id": "9a0e9be2",
   "metadata": {},
   "outputs": [],
   "source": [
    "for num in list1:\n",
    "    list_sum = list_sum + num\n",
    "print(list_sum)"
   ]
  },
  {
   "cell_type": "code",
   "execution_count": null,
   "id": "6deac1da",
   "metadata": {},
   "outputs": [],
   "source": [
    "250*40*30"
   ]
  },
  {
   "cell_type": "code",
   "execution_count": null,
   "id": "23006e7a",
   "metadata": {},
   "outputs": [],
   "source": [
    "lsum = 0\n",
    "\n",
    "for num in list1:\n",
    "    lsum += num\n",
    "print(lsum)"
   ]
  },
  {
   "cell_type": "code",
   "execution_count": null,
   "id": "f3194fcd",
   "metadata": {},
   "outputs": [],
   "source": [
    "for letter in \"This is a string\":\n",
    "    print(letter)"
   ]
  },
  {
   "cell_type": "code",
   "execution_count": null,
   "id": "dbed8ff2",
   "metadata": {},
   "outputs": [],
   "source": [
    "tup = (1, 2, 3, 4, 5)\n",
    "\n",
    "for t in tup:\n",
    "    print(t)"
   ]
  },
  {
   "cell_type": "code",
   "execution_count": null,
   "id": "36785d0c",
   "metadata": {},
   "outputs": [],
   "source": [
    "list2 = [(2,4),(6,8),(10,12)]"
   ]
  },
  {
   "cell_type": "code",
   "execution_count": null,
   "id": "efd54cba",
   "metadata": {},
   "outputs": [],
   "source": [
    "for t in list2:\n",
    "    print(t)"
   ]
  },
  {
   "cell_type": "code",
   "execution_count": null,
   "id": "f00e4817",
   "metadata": {},
   "outputs": [],
   "source": [
    "for (t1, t2) in list2:\n",
    "    print(t1)"
   ]
  },
  {
   "cell_type": "code",
   "execution_count": null,
   "id": "97f6b238",
   "metadata": {},
   "outputs": [],
   "source": [
    "d = {'k1':1,'k2':2,'k3':3}"
   ]
  },
  {
   "cell_type": "code",
   "execution_count": null,
   "id": "73c53719",
   "metadata": {},
   "outputs": [],
   "source": [
    "for item in d:\n",
    "    print(item)"
   ]
  },
  {
   "cell_type": "code",
   "execution_count": null,
   "id": "bbb98c57",
   "metadata": {},
   "outputs": [],
   "source": [
    "d.items()"
   ]
  },
  {
   "cell_type": "code",
   "execution_count": null,
   "id": "5d8c2d2c",
   "metadata": {},
   "outputs": [],
   "source": [
    "d.keys()"
   ]
  },
  {
   "cell_type": "code",
   "execution_count": null,
   "id": "33452a1a",
   "metadata": {},
   "outputs": [],
   "source": [
    "d.values()"
   ]
  },
  {
   "cell_type": "code",
   "execution_count": null,
   "id": "7d9a36ac",
   "metadata": {},
   "outputs": [],
   "source": [
    "for k,v in d.items():\n",
    "    print(k)\n",
    "    print(v)"
   ]
  },
  {
   "cell_type": "code",
   "execution_count": null,
   "id": "b8606c15",
   "metadata": {},
   "outputs": [],
   "source": [
    "list(d.keys())"
   ]
  },
  {
   "cell_type": "code",
   "execution_count": null,
   "id": "a0da1690",
   "metadata": {},
   "outputs": [],
   "source": [
    "list(d.values())"
   ]
  },
  {
   "cell_type": "code",
   "execution_count": null,
   "id": "003c4938",
   "metadata": {},
   "outputs": [],
   "source": [
    "sorted(d.values())"
   ]
  },
  {
   "cell_type": "code",
   "execution_count": 2,
   "id": "9c8020be",
   "metadata": {},
   "outputs": [
    {
     "name": "stdout",
     "output_type": "stream",
     "text": [
      "This is currently:  0\n",
      "x is still less than 10, adding 1 to x 0\n",
      "This is currently:  1\n",
      "x is still less than 10, adding 1 to x 1\n",
      "This is currently:  2\n",
      "x is still less than 10, adding 1 to x 2\n",
      "This is currently:  3\n",
      "x is still less than 10, adding 1 to x 3\n",
      "This is currently:  4\n",
      "x is still less than 10, adding 1 to x 4\n",
      "This is currently:  5\n",
      "x is still less than 10, adding 1 to x 5\n",
      "This is currently:  6\n",
      "x is still less than 10, adding 1 to x 6\n",
      "This is currently:  7\n",
      "x is still less than 10, adding 1 to x 7\n",
      "This is currently:  8\n",
      "x is still less than 10, adding 1 to x 8\n",
      "This is currently:  9\n",
      "x is still less than 10, adding 1 to x 9\n"
     ]
    }
   ],
   "source": [
    "x = 0\n",
    "\n",
    "while x < 10:\n",
    "    print(\"This is currently: \", x)\n",
    "    print(\"x is still less than 10, adding 1 to x\", x)\n",
    "    x+=1"
   ]
  },
  {
   "cell_type": "code",
   "execution_count": 3,
   "id": "bd58b9ad",
   "metadata": {},
   "outputs": [
    {
     "name": "stdout",
     "output_type": "stream",
     "text": [
      "This is currently:  0\n",
      "x is still less than 10, adding 1 to x 0\n",
      "This is currently:  1\n",
      "x is still less than 10, adding 1 to x 1\n",
      "This is currently:  2\n",
      "x is still less than 10, adding 1 to x 2\n",
      "This is currently:  3\n",
      "x is still less than 10, adding 1 to x 3\n",
      "This is currently:  4\n",
      "x is still less than 10, adding 1 to x 4\n",
      "This is currently:  5\n",
      "x is still less than 10, adding 1 to x 5\n",
      "This is currently:  6\n",
      "x is still less than 10, adding 1 to x 6\n",
      "This is currently:  7\n",
      "x is still less than 10, adding 1 to x 7\n",
      "This is currently:  8\n",
      "x is still less than 10, adding 1 to x 8\n",
      "This is currently:  9\n",
      "x is still less than 10, adding 1 to x 9\n",
      "The loop is done\n"
     ]
    }
   ],
   "source": [
    "x = 0\n",
    "\n",
    "while x < 10:\n",
    "    print(\"This is currently: \", x)\n",
    "    print(\"x is still less than 10, adding 1 to x\", x)\n",
    "    x+=1\n",
    "else:\n",
    "    print(\"The loop is done\")"
   ]
  },
  {
   "cell_type": "code",
   "execution_count": 4,
   "id": "11e3305d",
   "metadata": {},
   "outputs": [
    {
     "name": "stdout",
     "output_type": "stream",
     "text": [
      "This is currently:  0\n",
      "x is still less than 10, adding 1 to x 0\n",
      "Continuing ...\n",
      "This is currently:  1\n",
      "x is still less than 10, adding 1 to x 1\n",
      "Continuing ...\n",
      "This is currently:  2\n",
      "x is still less than 10, adding 1 to x 2\n",
      "Breaking since x == 3\n"
     ]
    }
   ],
   "source": [
    "x = 0\n",
    "\n",
    "while x < 10:\n",
    "    print(\"This is currently: \", x)\n",
    "    print(\"x is still less than 10, adding 1 to x\", x)\n",
    "    x+=1\n",
    "    if x == 3:\n",
    "        print(\"Breaking since x == 3\")\n",
    "        break\n",
    "    else:\n",
    "        print(\"Continuing ...\")\n",
    "        continue "
   ]
  },
  {
   "cell_type": "code",
   "execution_count": 5,
   "id": "2a332b01",
   "metadata": {},
   "outputs": [
    {
     "data": {
      "text/plain": [
       "range(0, 11)"
      ]
     },
     "execution_count": 5,
     "metadata": {},
     "output_type": "execute_result"
    }
   ],
   "source": [
    "range(0,11)"
   ]
  },
  {
   "cell_type": "code",
   "execution_count": 6,
   "id": "889e3c8d",
   "metadata": {},
   "outputs": [
    {
     "data": {
      "text/plain": [
       "[0, 1, 2, 3, 4, 5, 6, 7, 8, 9, 10]"
      ]
     },
     "execution_count": 6,
     "metadata": {},
     "output_type": "execute_result"
    }
   ],
   "source": [
    "list(range(0,11))"
   ]
  },
  {
   "cell_type": "code",
   "execution_count": 7,
   "id": "6705a7fd",
   "metadata": {},
   "outputs": [
    {
     "data": {
      "text/plain": [
       "[0, 2, 4, 6, 8, 10]"
      ]
     },
     "execution_count": 7,
     "metadata": {},
     "output_type": "execute_result"
    }
   ],
   "source": [
    "list(range(0,11,2))"
   ]
  },
  {
   "cell_type": "code",
   "execution_count": 8,
   "id": "7e7fafdf",
   "metadata": {},
   "outputs": [
    {
     "data": {
      "text/plain": [
       "[0, 10, 20, 30, 40, 50, 60, 70, 80, 90, 100]"
      ]
     },
     "execution_count": 8,
     "metadata": {},
     "output_type": "execute_result"
    }
   ],
   "source": [
    "list(range(0,101,10))"
   ]
  },
  {
   "cell_type": "code",
   "execution_count": 9,
   "id": "b83e6498",
   "metadata": {},
   "outputs": [
    {
     "name": "stdout",
     "output_type": "stream",
     "text": [
      "at index 0 the letter is a\n",
      "at index 1 the letter is b\n",
      "at index 2 the letter is c\n",
      "at index 3 the letter is d\n",
      "at index 4 the letter is e\n"
     ]
    }
   ],
   "source": [
    "index_count = 0\n",
    "\n",
    "for letter in \"abcde\":\n",
    "    print(\"at index {} the letter is {}\".format(index_count, letter))\n",
    "    index_count +=1"
   ]
  },
  {
   "cell_type": "code",
   "execution_count": 10,
   "id": "0b342df8",
   "metadata": {},
   "outputs": [
    {
     "name": "stdout",
     "output_type": "stream",
     "text": [
      "at index 0 the letter is a\n",
      "at index 1 the letter is b\n",
      "at index 2 the letter is c\n",
      "at index 3 the letter is d\n",
      "at index 4 the letter is e\n"
     ]
    }
   ],
   "source": [
    "for i, letter in enumerate(\"abcde\"):\n",
    "    print(\"at index {} the letter is {}\".format(i, letter))"
   ]
  },
  {
   "cell_type": "code",
   "execution_count": 12,
   "id": "d92662e7",
   "metadata": {},
   "outputs": [
    {
     "data": {
      "text/plain": [
       "[(0, 'a'), (1, 'b'), (2, 'c'), (3, 'd'), (4, 'e')]"
      ]
     },
     "execution_count": 12,
     "metadata": {},
     "output_type": "execute_result"
    }
   ],
   "source": [
    "list(enumerate(\"abcde\"))"
   ]
  },
  {
   "cell_type": "code",
   "execution_count": 13,
   "id": "65063aaa",
   "metadata": {},
   "outputs": [],
   "source": [
    "mylist1 = [1,2,3,4,5]\n",
    "mylist2 = ['a','b','c','d','e']"
   ]
  },
  {
   "cell_type": "code",
   "execution_count": 14,
   "id": "7215e287",
   "metadata": {},
   "outputs": [
    {
     "data": {
      "text/plain": [
       "<zip at 0x7fc2f00b1680>"
      ]
     },
     "execution_count": 14,
     "metadata": {},
     "output_type": "execute_result"
    }
   ],
   "source": [
    "# This one is also a generator! We will explain this later, but for now let's transform it to a list\n",
    "zip(mylist1,mylist2)"
   ]
  },
  {
   "cell_type": "code",
   "execution_count": 15,
   "id": "57de7d96",
   "metadata": {},
   "outputs": [
    {
     "data": {
      "text/plain": [
       "[(1, 'a'), (2, 'b'), (3, 'c'), (4, 'd'), (5, 'e')]"
      ]
     },
     "execution_count": 15,
     "metadata": {},
     "output_type": "execute_result"
    }
   ],
   "source": [
    "list(# This one is also a generator! We will explain this later, but for now let's transform it to a list\n",
    "zip(mylist1,mylist2))"
   ]
  },
  {
   "cell_type": "code",
   "execution_count": null,
   "id": "2dbf33e5",
   "metadata": {},
   "outputs": [],
   "source": []
  }
 ],
 "metadata": {
  "kernelspec": {
   "display_name": "Python 3 (ipykernel)",
   "language": "python",
   "name": "python3"
  },
  "language_info": {
   "codemirror_mode": {
    "name": "ipython",
    "version": 3
   },
   "file_extension": ".py",
   "mimetype": "text/x-python",
   "name": "python",
   "nbconvert_exporter": "python",
   "pygments_lexer": "ipython3",
   "version": "3.9.7"
  }
 },
 "nbformat": 4,
 "nbformat_minor": 5
}

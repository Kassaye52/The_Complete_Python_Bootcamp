{
 "cells": [
  {
   "cell_type": "code",
   "execution_count": 1,
   "id": "3792aba6",
   "metadata": {},
   "outputs": [],
   "source": [
    "def square(num):\n",
    "    return num**2"
   ]
  },
  {
   "cell_type": "code",
   "execution_count": 2,
   "id": "e26dd4a6",
   "metadata": {},
   "outputs": [],
   "source": [
    "a = [1,2,3,4,5]"
   ]
  },
  {
   "cell_type": "code",
   "execution_count": 3,
   "id": "7670169d",
   "metadata": {},
   "outputs": [
    {
     "name": "stdout",
     "output_type": "stream",
     "text": [
      "1\n",
      "4\n",
      "9\n",
      "16\n",
      "25\n"
     ]
    }
   ],
   "source": [
    "for b in a:\n",
    "    print(square(b))"
   ]
  },
  {
   "cell_type": "code",
   "execution_count": 4,
   "id": "1cbb805b",
   "metadata": {},
   "outputs": [
    {
     "data": {
      "text/plain": [
       "<map at 0x7f9f19b64f10>"
      ]
     },
     "execution_count": 4,
     "metadata": {},
     "output_type": "execute_result"
    }
   ],
   "source": [
    "map(square, a)"
   ]
  },
  {
   "cell_type": "code",
   "execution_count": 5,
   "id": "5d968084",
   "metadata": {},
   "outputs": [
    {
     "data": {
      "text/plain": [
       "[1, 4, 9, 16, 25]"
      ]
     },
     "execution_count": 5,
     "metadata": {},
     "output_type": "execute_result"
    }
   ],
   "source": [
    "list(map(square, a))"
   ]
  },
  {
   "cell_type": "code",
   "execution_count": 6,
   "id": "4f714519",
   "metadata": {},
   "outputs": [],
   "source": [
    "def splicer(mystring):\n",
    "    if len(mystring) % 2 == 0:\n",
    "        return \"Even\"\n",
    "    else:\n",
    "        return mystring[0]"
   ]
  },
  {
   "cell_type": "code",
   "execution_count": 7,
   "id": "a7271b65",
   "metadata": {},
   "outputs": [],
   "source": [
    "mynames = ['John','Cindy','Sarah','Kelly','Mike']"
   ]
  },
  {
   "cell_type": "code",
   "execution_count": 8,
   "id": "0662c78d",
   "metadata": {},
   "outputs": [
    {
     "data": {
      "text/plain": [
       "<map at 0x7f9f1a0c93d0>"
      ]
     },
     "execution_count": 8,
     "metadata": {},
     "output_type": "execute_result"
    }
   ],
   "source": [
    "map(splicer, mynames)"
   ]
  },
  {
   "cell_type": "code",
   "execution_count": 9,
   "id": "eb9bdca2",
   "metadata": {},
   "outputs": [
    {
     "data": {
      "text/plain": [
       "['Even', 'C', 'S', 'K', 'Even']"
      ]
     },
     "execution_count": 9,
     "metadata": {},
     "output_type": "execute_result"
    }
   ],
   "source": [
    "list(map(splicer,mynames))"
   ]
  },
  {
   "cell_type": "code",
   "execution_count": 10,
   "id": "62df6574",
   "metadata": {},
   "outputs": [],
   "source": [
    "def chech_even(num):\n",
    "    return num % 2 == 0"
   ]
  },
  {
   "cell_type": "code",
   "execution_count": 11,
   "id": "2d038a4e",
   "metadata": {},
   "outputs": [],
   "source": [
    "nums = [0,1,2,3,4,5,6,7,8,9,10]"
   ]
  },
  {
   "cell_type": "code",
   "execution_count": 12,
   "id": "6a48fde3",
   "metadata": {},
   "outputs": [
    {
     "data": {
      "text/plain": [
       "<filter at 0x7f9f1a603f40>"
      ]
     },
     "execution_count": 12,
     "metadata": {},
     "output_type": "execute_result"
    }
   ],
   "source": [
    "filter(chech_even, nums)"
   ]
  },
  {
   "cell_type": "code",
   "execution_count": 13,
   "id": "c12e34a3",
   "metadata": {},
   "outputs": [
    {
     "data": {
      "text/plain": [
       "[0, 2, 4, 6, 8, 10]"
      ]
     },
     "execution_count": 13,
     "metadata": {},
     "output_type": "execute_result"
    }
   ],
   "source": [
    "list(filter(chech_even, nums))"
   ]
  },
  {
   "cell_type": "code",
   "execution_count": 14,
   "id": "eae03478",
   "metadata": {},
   "outputs": [
    {
     "data": {
      "text/plain": [
       "<function __main__.<lambda>(num)>"
      ]
     },
     "execution_count": 14,
     "metadata": {},
     "output_type": "execute_result"
    }
   ],
   "source": [
    "lambda num: num ** 2"
   ]
  },
  {
   "cell_type": "code",
   "execution_count": 15,
   "id": "2cee6b74",
   "metadata": {},
   "outputs": [],
   "source": [
    "square = lambda num: num ** 2"
   ]
  },
  {
   "cell_type": "code",
   "execution_count": 16,
   "id": "b7c1ad3d",
   "metadata": {},
   "outputs": [
    {
     "data": {
      "text/plain": [
       "4"
      ]
     },
     "execution_count": 16,
     "metadata": {},
     "output_type": "execute_result"
    }
   ],
   "source": [
    "square(2)"
   ]
  },
  {
   "cell_type": "code",
   "execution_count": 18,
   "id": "4e9d2bed",
   "metadata": {},
   "outputs": [
    {
     "data": {
      "text/plain": [
       "[0, 1, 4, 9, 16, 25, 36, 49, 64, 81, 100]"
      ]
     },
     "execution_count": 18,
     "metadata": {},
     "output_type": "execute_result"
    }
   ],
   "source": [
    "list(map(lambda num: num ** 2, nums))"
   ]
  },
  {
   "cell_type": "code",
   "execution_count": 24,
   "id": "ecbf3298",
   "metadata": {},
   "outputs": [],
   "source": [
    "def ran_check(num,low,high):\n",
    "    if num > low and num < high:\n",
    "        print(f'{num} is in the range between {low} and {high}')\n",
    "    else:\n",
    "        print(\"The expected argument is false!\")"
   ]
  },
  {
   "cell_type": "code",
   "execution_count": 25,
   "id": "24376f72",
   "metadata": {},
   "outputs": [
    {
     "name": "stdout",
     "output_type": "stream",
     "text": [
      "5 is in the range between 2 and 7\n"
     ]
    }
   ],
   "source": [
    "# Check\n",
    "ran_check(5,2,7)"
   ]
  },
  {
   "cell_type": "code",
   "execution_count": 26,
   "id": "4e1cab5c",
   "metadata": {},
   "outputs": [],
   "source": [
    "def ran_bool(num,low,high):\n",
    "    if num > low and num < high:\n",
    "        return True\n",
    "    else:\n",
    "        return False"
   ]
  },
  {
   "cell_type": "code",
   "execution_count": 27,
   "id": "9347f9e0",
   "metadata": {},
   "outputs": [
    {
     "data": {
      "text/plain": [
       "True"
      ]
     },
     "execution_count": 27,
     "metadata": {},
     "output_type": "execute_result"
    }
   ],
   "source": [
    "ran_bool(3,1,10)"
   ]
  },
  {
   "cell_type": "code",
   "execution_count": 32,
   "id": "8361665b",
   "metadata": {},
   "outputs": [
    {
     "ename": "NameError",
     "evalue": "name 's' is not defined",
     "output_type": "error",
     "traceback": [
      "\u001b[0;31m---------------------------------------------------------------------------\u001b[0m",
      "\u001b[0;31mNameError\u001b[0m                                 Traceback (most recent call last)",
      "\u001b[0;32m/var/folders/76/xs74b8wd5y1d4jslcyz534sh0000gn/T/ipykernel_6560/3794217888.py\u001b[0m in \u001b[0;36m<module>\u001b[0;34m\u001b[0m\n\u001b[1;32m      7\u001b[0m         \u001b[0;32melse\u001b[0m\u001b[0;34m:\u001b[0m\u001b[0;34m\u001b[0m\u001b[0;34m\u001b[0m\u001b[0m\n\u001b[1;32m      8\u001b[0m             \u001b[0mlow\u001b[0m\u001b[0;34m.\u001b[0m\u001b[0mappend\u001b[0m\u001b[0;34m(\u001b[0m\u001b[0mi\u001b[0m\u001b[0;34m)\u001b[0m\u001b[0;34m\u001b[0m\u001b[0;34m\u001b[0m\u001b[0m\n\u001b[0;32m----> 9\u001b[0;31m \u001b[0mprint\u001b[0m\u001b[0;34m(\u001b[0m\u001b[0;34mf'Original String : {s}'\u001b[0m\u001b[0;34m)\u001b[0m\u001b[0;34m\u001b[0m\u001b[0;34m\u001b[0m\u001b[0m\n\u001b[0m\u001b[1;32m     10\u001b[0m \u001b[0mprint\u001b[0m\u001b[0;34m(\u001b[0m\u001b[0;34mf'No. of Upper case characters : len{up}'\u001b[0m\u001b[0;34m)\u001b[0m\u001b[0;34m\u001b[0m\u001b[0;34m\u001b[0m\u001b[0m\n\u001b[1;32m     11\u001b[0m \u001b[0mprint\u001b[0m\u001b[0;34m(\u001b[0m\u001b[0;34mf'No. of Lower case Characters : len{low}'\u001b[0m\u001b[0;34m)\u001b[0m\u001b[0;34m\u001b[0m\u001b[0;34m\u001b[0m\u001b[0m\n",
      "\u001b[0;31mNameError\u001b[0m: name 's' is not defined"
     ]
    }
   ],
   "source": [
    "up = []\n",
    "low = []\n",
    "def up_low(s):\n",
    "    for i in s:\n",
    "        if i.isupper():\n",
    "            up.append(i)    \n",
    "        else:\n",
    "            low.append(i)\n",
    "print(f'Original String : {s}')\n",
    "print(f'No. of Upper case characters : len{up}')\n",
    "print(f'No. of Lower case Characters : len{low}')"
   ]
  },
  {
   "cell_type": "code",
   "execution_count": 33,
   "id": "44aa85e5",
   "metadata": {},
   "outputs": [],
   "source": [
    "up = []\n",
    "low = []\n",
    "\n",
    "def up_low(s):\n",
    "    for i in s:\n",
    "        if i.isupper():\n",
    "            up.append(i)    \n",
    "        else:\n",
    "            low.append(i)"
   ]
  },
  {
   "cell_type": "code",
   "execution_count": 34,
   "id": "b444dff4",
   "metadata": {},
   "outputs": [],
   "source": [
    "s = 'Hello Mr. Rogers, how are you this fine Tuesday?'\n",
    "up_low(s)"
   ]
  },
  {
   "cell_type": "code",
   "execution_count": 36,
   "id": "c50e2eee",
   "metadata": {},
   "outputs": [
    {
     "name": "stdout",
     "output_type": "stream",
     "text": [
      "Original String : Hello Mr. Rogers, how are you this fine Tuesday?\n",
      "No. of Upper case characters : 4\n",
      "No. of Lower case Characters : 44\n"
     ]
    }
   ],
   "source": [
    "print(f'Original String : {s}')\n",
    "print(f'No. of Upper case characters : {len(up)}')\n",
    "print(f'No. of Lower case Characters : {len(low)}')"
   ]
  },
  {
   "cell_type": "code",
   "execution_count": null,
   "id": "5d37ae7d",
   "metadata": {},
   "outputs": [],
   "source": []
  }
 ],
 "metadata": {
  "kernelspec": {
   "display_name": "Python 3 (ipykernel)",
   "language": "python",
   "name": "python3"
  },
  "language_info": {
   "codemirror_mode": {
    "name": "ipython",
    "version": 3
   },
   "file_extension": ".py",
   "mimetype": "text/x-python",
   "name": "python",
   "nbconvert_exporter": "python",
   "pygments_lexer": "ipython3",
   "version": "3.9.7"
  }
 },
 "nbformat": 4,
 "nbformat_minor": 5
}

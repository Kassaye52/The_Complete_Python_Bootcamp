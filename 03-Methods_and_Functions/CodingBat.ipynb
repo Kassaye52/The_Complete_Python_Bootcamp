{
 "cells": [
  {
   "cell_type": "markdown",
   "id": "7e63e9dc",
   "metadata": {},
   "source": [
    "## Q1. sleep_in\n",
    "The parameter weekday is True if it is a weekday, and the parameter vacation is True if we are on vacation. We sleep in if it is not a weekday or we're on vacation. Return True if we sleep in.\n",
    "\n",
    "    sleep_in(False, False) → True\n",
    "    sleep_in(True, False) → False\n",
    "    sleep_in(False, True) → True"
   ]
  },
  {
   "cell_type": "code",
   "execution_count": 92,
   "id": "6b085023",
   "metadata": {},
   "outputs": [],
   "source": [
    "def sleep_in(weekday, vacation):\n",
    "  return not weekday or vacation\n",
    "\n",
    "#print(sleep_in(False, False))\n",
    "#print(sleep_in(True, False))\n",
    "#print(sleep_in(False, True))"
   ]
  },
  {
   "cell_type": "markdown",
   "id": "9d70961f",
   "metadata": {},
   "source": [
    "## Q2. monkey_trouble\n",
    "We have two monkeys, a and b, and the parameters a_smile and b_smile indicate if each is smiling. We are in trouble if they are both smiling or if neither of them is smiling. Return True if we are in trouble.\n",
    "\n",
    "    monkey_trouble(True, True) → True\n",
    "    monkey_trouble(False, False) → True\n",
    "    monkey_trouble(True, False) → False"
   ]
  },
  {
   "cell_type": "code",
   "execution_count": 4,
   "id": "2e222aae",
   "metadata": {},
   "outputs": [],
   "source": [
    "def monkey_trouble(a_smile, b_smile):\n",
    "  if a_smile == True and b_smile == True:\n",
    "    return True\n",
    "  elif a_smile == False and b_smile == False:\n",
    "    return True\n",
    "  else:\n",
    "    return False"
   ]
  },
  {
   "cell_type": "code",
   "execution_count": 5,
   "id": "89d2a281",
   "metadata": {},
   "outputs": [
    {
     "name": "stdout",
     "output_type": "stream",
     "text": [
      "True\n",
      "True\n",
      "False\n"
     ]
    }
   ],
   "source": [
    "print(monkey_trouble(True, True))\n",
    "print(monkey_trouble(False, False))\n",
    "print(monkey_trouble(True, False))"
   ]
  },
  {
   "cell_type": "markdown",
   "id": "722d047b",
   "metadata": {},
   "source": [
    "## Q3. sum_double\n",
    "\n",
    "Given two int values, return their sum. Unless the two values are the same, then return double their sum.\n",
    "\n",
    "    sum_double(1, 2) → 3\n",
    "    sum_double(3, 2) → 5\n",
    "    sum_double(2, 2) → 8"
   ]
  },
  {
   "cell_type": "code",
   "execution_count": 14,
   "id": "c2811b53",
   "metadata": {},
   "outputs": [],
   "source": [
    "def sum_double(a, b):\n",
    "    if a == b:\n",
    "        return 2*(a+b)\n",
    "    else:\n",
    "        return (a+b)"
   ]
  },
  {
   "cell_type": "code",
   "execution_count": 15,
   "id": "8581565c",
   "metadata": {},
   "outputs": [
    {
     "data": {
      "text/plain": [
       "3"
      ]
     },
     "execution_count": 15,
     "metadata": {},
     "output_type": "execute_result"
    }
   ],
   "source": [
    "sum_double(1, 2)"
   ]
  },
  {
   "cell_type": "code",
   "execution_count": 16,
   "id": "be0cf13c",
   "metadata": {},
   "outputs": [
    {
     "data": {
      "text/plain": [
       "5"
      ]
     },
     "execution_count": 16,
     "metadata": {},
     "output_type": "execute_result"
    }
   ],
   "source": [
    "sum_double(3, 2)"
   ]
  },
  {
   "cell_type": "code",
   "execution_count": 17,
   "id": "ed87582f",
   "metadata": {},
   "outputs": [
    {
     "data": {
      "text/plain": [
       "8"
      ]
     },
     "execution_count": 17,
     "metadata": {},
     "output_type": "execute_result"
    }
   ],
   "source": [
    "sum_double(2, 2)"
   ]
  },
  {
   "cell_type": "markdown",
   "id": "97a2fe15",
   "metadata": {},
   "source": [
    "# Q4. diff21\n",
    "Given an int n, return the absolute difference between n and 21, except return double the absolute difference if n is over 21.\n",
    "    \n",
    "    diff21(19) → 2\n",
    "    diff21(10) → 11\n",
    "    diff21(21) → 0"
   ]
  },
  {
   "cell_type": "code",
   "execution_count": 18,
   "id": "1e703490",
   "metadata": {},
   "outputs": [],
   "source": [
    "def diff21(n):\n",
    "    if n > 21:\n",
    "        return abs(n - 21)*2\n",
    "    else:\n",
    "        return abs(n-21)"
   ]
  },
  {
   "cell_type": "code",
   "execution_count": 20,
   "id": "1fdcedad",
   "metadata": {},
   "outputs": [
    {
     "name": "stdout",
     "output_type": "stream",
     "text": [
      "2\n",
      "11\n",
      "0\n"
     ]
    }
   ],
   "source": [
    "print(diff21(19))\n",
    "print(diff21(10))\n",
    "print(diff21(21))"
   ]
  },
  {
   "cell_type": "markdown",
   "id": "b63b63c4",
   "metadata": {},
   "source": [
    "## Q4. parrot_trouble\n",
    "We have a loud talking parrot. The \"hour\" parameter is the current hour time in the range 0..23. We are in trouble if the parrot is talking and the hour is before 7 or after 20. Return True if we are in trouble.\n",
    "\n",
    "    parrot_trouble(True, 6) → True\n",
    "    parrot_trouble(True, 7) → False\n",
    "    parrot_trouble(False, 6) → False"
   ]
  },
  {
   "cell_type": "code",
   "execution_count": 21,
   "id": "d1666df8",
   "metadata": {},
   "outputs": [],
   "source": [
    "def parrot_trouble(talking, hour):\n",
    "    if talking == True and hour < 7:\n",
    "        return True\n",
    "    elif talking == True and hour > 20:\n",
    "        return True\n",
    "    else:\n",
    "        return False"
   ]
  },
  {
   "cell_type": "code",
   "execution_count": 22,
   "id": "b8d84468",
   "metadata": {},
   "outputs": [
    {
     "name": "stdout",
     "output_type": "stream",
     "text": [
      "True\n"
     ]
    }
   ],
   "source": [
    "print(parrot_trouble(True, 6))"
   ]
  },
  {
   "cell_type": "code",
   "execution_count": 24,
   "id": "afba4a7e",
   "metadata": {},
   "outputs": [
    {
     "name": "stdout",
     "output_type": "stream",
     "text": [
      "False\n"
     ]
    }
   ],
   "source": [
    "print(parrot_trouble(True, 7))"
   ]
  },
  {
   "cell_type": "code",
   "execution_count": 25,
   "id": "7aaa6953",
   "metadata": {},
   "outputs": [
    {
     "data": {
      "text/plain": [
       "False"
      ]
     },
     "execution_count": 25,
     "metadata": {},
     "output_type": "execute_result"
    }
   ],
   "source": [
    "parrot_trouble(False, 6)"
   ]
  },
  {
   "cell_type": "markdown",
   "id": "889b6157",
   "metadata": {},
   "source": [
    "## Q5. makes10\n",
    "Given 2 ints, a and b, return True if one if them is 10 or if their sum is 10.\n",
    "\n",
    "    makes10(9, 10) → True\n",
    "    makes10(9, 9) → False\n",
    "    makes10(1, 9) → True"
   ]
  },
  {
   "cell_type": "code",
   "execution_count": 37,
   "id": "dfc9e981",
   "metadata": {},
   "outputs": [],
   "source": [
    "def makes10(a, b):\n",
    "    if a == 10 or b == 10 or a+b == 10:\n",
    "        return True\n",
    "    else:\n",
    "        return False"
   ]
  },
  {
   "cell_type": "code",
   "execution_count": 38,
   "id": "ddda36a6",
   "metadata": {},
   "outputs": [
    {
     "name": "stdout",
     "output_type": "stream",
     "text": [
      "True\n"
     ]
    }
   ],
   "source": [
    "print(makes10(9, 10) )"
   ]
  },
  {
   "cell_type": "code",
   "execution_count": 39,
   "id": "1de24b55",
   "metadata": {},
   "outputs": [
    {
     "name": "stdout",
     "output_type": "stream",
     "text": [
      "False\n"
     ]
    }
   ],
   "source": [
    "print(makes10(9, 9))"
   ]
  },
  {
   "cell_type": "code",
   "execution_count": 40,
   "id": "197acb26",
   "metadata": {},
   "outputs": [
    {
     "data": {
      "text/plain": [
       "True"
      ]
     },
     "execution_count": 40,
     "metadata": {},
     "output_type": "execute_result"
    }
   ],
   "source": [
    "makes10(1, 9)"
   ]
  },
  {
   "cell_type": "markdown",
   "id": "4f2c3892",
   "metadata": {},
   "source": [
    "## Q6. near_hundred\n",
    "Given an int n, return True if it is within 10 of 100 or 200. Note: abs(num) computes the absolute value of a number.\n",
    "\n",
    "    near_hundred(93) → True\n",
    "    near_hundred(90) → True\n",
    "    near_hundred(89) → False"
   ]
  },
  {
   "cell_type": "code",
   "execution_count": 46,
   "id": "7230390f",
   "metadata": {},
   "outputs": [],
   "source": [
    "def near_hundred(n):\n",
    "    if abs(n - 100) <= 10 or abs(n - 200) <= 10:\n",
    "        return True\n",
    "    else:\n",
    "        return False"
   ]
  },
  {
   "cell_type": "code",
   "execution_count": 47,
   "id": "4070a77d",
   "metadata": {},
   "outputs": [
    {
     "data": {
      "text/plain": [
       "True"
      ]
     },
     "execution_count": 47,
     "metadata": {},
     "output_type": "execute_result"
    }
   ],
   "source": [
    "near_hundred(93) "
   ]
  },
  {
   "cell_type": "code",
   "execution_count": 48,
   "id": "93a6a038",
   "metadata": {},
   "outputs": [
    {
     "data": {
      "text/plain": [
       "True"
      ]
     },
     "execution_count": 48,
     "metadata": {},
     "output_type": "execute_result"
    }
   ],
   "source": [
    "near_hundred(90)"
   ]
  },
  {
   "cell_type": "code",
   "execution_count": 49,
   "id": "ddd5b7ec",
   "metadata": {},
   "outputs": [
    {
     "data": {
      "text/plain": [
       "False"
      ]
     },
     "execution_count": 49,
     "metadata": {},
     "output_type": "execute_result"
    }
   ],
   "source": [
    "near_hundred(89)"
   ]
  },
  {
   "cell_type": "markdown",
   "id": "5b3e5b0e",
   "metadata": {},
   "source": [
    "## Q7. pos_neg\n",
    "Given 2 int values, return True if one is negative and one is positive. Except if the parameter \"negative\" is True, then return True only if both are negative.\n",
    "\n",
    "    pos_neg(1, -1, False) → True\n",
    "    pos_neg(-1, 1, False) → True\n",
    "    pos_neg(-4, -5, True) → True"
   ]
  },
  {
   "cell_type": "code",
   "execution_count": 71,
   "id": "fda3f20d",
   "metadata": {},
   "outputs": [],
   "source": [
    "def pos_neg(a, b, negative):\n",
    "    if negative:\n",
    "        # If the 'negative' parameter is True, return True only if both are negative.\n",
    "        return a < 0 and b < 0\n",
    "    else:\n",
    "        # Return True if one is negative and one is positive.\n",
    "        return (a < 0 and b > 0) or (a > 0 and b < 0)"
   ]
  },
  {
   "cell_type": "code",
   "execution_count": 72,
   "id": "79a5cbcc",
   "metadata": {},
   "outputs": [
    {
     "data": {
      "text/plain": [
       "False"
      ]
     },
     "execution_count": 72,
     "metadata": {},
     "output_type": "execute_result"
    }
   ],
   "source": [
    "pos_neg(4, 5, False) "
   ]
  },
  {
   "cell_type": "code",
   "execution_count": 73,
   "id": "e7f317c9",
   "metadata": {},
   "outputs": [
    {
     "data": {
      "text/plain": [
       "True"
      ]
     },
     "execution_count": 73,
     "metadata": {},
     "output_type": "execute_result"
    }
   ],
   "source": [
    "pos_neg(-1, 1, False)"
   ]
  },
  {
   "cell_type": "code",
   "execution_count": 74,
   "id": "8fac4a63",
   "metadata": {},
   "outputs": [
    {
     "data": {
      "text/plain": [
       "True"
      ]
     },
     "execution_count": 74,
     "metadata": {},
     "output_type": "execute_result"
    }
   ],
   "source": [
    "pos_neg(-4, -5, True)"
   ]
  },
  {
   "cell_type": "code",
   "execution_count": 75,
   "id": "9f450ab4",
   "metadata": {},
   "outputs": [
    {
     "data": {
      "text/plain": [
       "False"
      ]
     },
     "execution_count": 75,
     "metadata": {},
     "output_type": "execute_result"
    }
   ],
   "source": [
    "pos_neg(-4, -5, False)"
   ]
  },
  {
   "cell_type": "markdown",
   "id": "fe2d5c54",
   "metadata": {},
   "source": [
    "## Q8. not_string\n",
    "\n",
    "Given a string, return a new string where \"not \" has been added to the front. However, if the string already begins with \"not\", return the string unchanged.\n",
    "\n",
    "    not_string('candy') → 'not candy'\n",
    "    not_string('x') → 'not x'\n",
    "    not_string('not bad') → 'not bad'"
   ]
  },
  {
   "cell_type": "code",
   "execution_count": 88,
   "id": "7abf91bd",
   "metadata": {},
   "outputs": [],
   "source": [
    "def not_string(str1):\n",
    "    if str1.startswith(\"not\"):\n",
    "        return str1\n",
    "    else:\n",
    "        return \"not \" + str1"
   ]
  },
  {
   "cell_type": "code",
   "execution_count": 89,
   "id": "aad8df77",
   "metadata": {},
   "outputs": [
    {
     "data": {
      "text/plain": [
       "'not candy'"
      ]
     },
     "execution_count": 89,
     "metadata": {},
     "output_type": "execute_result"
    }
   ],
   "source": [
    "not_string('candy')"
   ]
  },
  {
   "cell_type": "code",
   "execution_count": 90,
   "id": "740f1e3b",
   "metadata": {},
   "outputs": [
    {
     "data": {
      "text/plain": [
       "'not x'"
      ]
     },
     "execution_count": 90,
     "metadata": {},
     "output_type": "execute_result"
    }
   ],
   "source": [
    "not_string('x') "
   ]
  },
  {
   "cell_type": "markdown",
   "id": "c39cc8fc",
   "metadata": {},
   "source": [
    "## Q9. missing_char\n",
    "Given a non-empty string and an int n, return a new string where the char at index n has been removed. The value of n will be a valid index of a char in the original string (i.e. n will be in the range 0..len(str)-1 inclusive).\n",
    "\n",
    "    missing_char('kitten', 1) → 'ktten'\n",
    "    missing_char('kitten', 0) → 'itten'\n",
    "    missing_char('kitten', 4) → 'kittn'\n"
   ]
  },
  {
   "cell_type": "code",
   "execution_count": 98,
   "id": "58f5eb1b",
   "metadata": {},
   "outputs": [],
   "source": [
    "def missing_char(str1, n):\n",
    "    return str1.replace(str1[n], \"\")"
   ]
  },
  {
   "cell_type": "code",
   "execution_count": 99,
   "id": "50d7a586",
   "metadata": {},
   "outputs": [
    {
     "data": {
      "text/plain": [
       "'ktten'"
      ]
     },
     "execution_count": 99,
     "metadata": {},
     "output_type": "execute_result"
    }
   ],
   "source": [
    "missing_char('kitten', 1)"
   ]
  },
  {
   "cell_type": "code",
   "execution_count": 100,
   "id": "f5e9f39f",
   "metadata": {},
   "outputs": [
    {
     "data": {
      "text/plain": [
       "'itten'"
      ]
     },
     "execution_count": 100,
     "metadata": {},
     "output_type": "execute_result"
    }
   ],
   "source": [
    "missing_char('kitten', 0)"
   ]
  },
  {
   "cell_type": "code",
   "execution_count": 101,
   "id": "d87b047c",
   "metadata": {},
   "outputs": [
    {
     "data": {
      "text/plain": [
       "'kittn'"
      ]
     },
     "execution_count": 101,
     "metadata": {},
     "output_type": "execute_result"
    }
   ],
   "source": [
    "missing_char('kitten', 4)"
   ]
  },
  {
   "cell_type": "markdown",
   "id": "040df79d",
   "metadata": {},
   "source": [
    "LESSER OF TWO EVENS: Write a function that returns the lesser of two given numbers if both numbers are even, but returns the greater if one or both numbers are odd\n",
    "   \n",
    "    lesser_of_two_evens(2,4) --> 2\n",
    "    lesser_of_two_evens(2,5) --> 5"
   ]
  },
  {
   "cell_type": "code",
   "execution_count": 4,
   "id": "1479c4b1",
   "metadata": {},
   "outputs": [],
   "source": [
    "def lesser_of_two_evens(a, b):\n",
    "    if a%2 == 0 and b%2 == 0:\n",
    "        return min(a,b)\n",
    "    else:\n",
    "        return max(a,b)\n",
    "    "
   ]
  },
  {
   "cell_type": "code",
   "execution_count": 5,
   "id": "0b28dfa6",
   "metadata": {},
   "outputs": [
    {
     "data": {
      "text/plain": [
       "2"
      ]
     },
     "execution_count": 5,
     "metadata": {},
     "output_type": "execute_result"
    }
   ],
   "source": [
    "lesser_of_two_evens(2,4) "
   ]
  },
  {
   "cell_type": "code",
   "execution_count": 6,
   "id": "2f32e70e",
   "metadata": {},
   "outputs": [
    {
     "data": {
      "text/plain": [
       "5"
      ]
     },
     "execution_count": 6,
     "metadata": {},
     "output_type": "execute_result"
    }
   ],
   "source": [
    "lesser_of_two_evens(2,5)"
   ]
  },
  {
   "cell_type": "markdown",
   "id": "42ec2db2",
   "metadata": {},
   "source": [
    "#### ANIMAL CRACKERS: Write a function takes a two-word string and returns True if both words begin with same letter\n",
    "    animal_crackers('Levelheaded Llama') --> True\n",
    "    animal_crackers('Crazy Kangaroo') --> False"
   ]
  },
  {
   "cell_type": "code",
   "execution_count": 20,
   "id": "cda4790f",
   "metadata": {},
   "outputs": [],
   "source": [
    "def animal_crackers(s):\n",
    "    words = s.split()\n",
    "    if words[0][0] == words[1][0]:\n",
    "        return True\n",
    "    else:\n",
    "        False"
   ]
  },
  {
   "cell_type": "code",
   "execution_count": 22,
   "id": "37ed3cc1",
   "metadata": {},
   "outputs": [
    {
     "data": {
      "text/plain": [
       "True"
      ]
     },
     "execution_count": 22,
     "metadata": {},
     "output_type": "execute_result"
    }
   ],
   "source": [
    "animal_crackers('Levelheaded Llama')"
   ]
  },
  {
   "cell_type": "markdown",
   "id": "aa0c655d",
   "metadata": {},
   "source": [
    "#### MAKES TWENTY: Given two integers, return True if the sum of the integers is 20 *or* if one of the integers is 20. If not, return False\n",
    "\n",
    "    makes_twenty(20,10) --> True\n",
    "    makes_twenty(12,8) --> True\n",
    "    makes_twenty(2,3) --> False"
   ]
  },
  {
   "cell_type": "code",
   "execution_count": 29,
   "id": "445bc2c1",
   "metadata": {},
   "outputs": [],
   "source": [
    "def make_twenty(a,b):\n",
    "    if (a + b == 20) or (a == 20 or b == 20):\n",
    "        return True\n",
    "    else: return False"
   ]
  },
  {
   "cell_type": "code",
   "execution_count": 30,
   "id": "7025a107",
   "metadata": {},
   "outputs": [
    {
     "data": {
      "text/plain": [
       "True"
      ]
     },
     "execution_count": 30,
     "metadata": {},
     "output_type": "execute_result"
    }
   ],
   "source": [
    "make_twenty(20,10)"
   ]
  },
  {
   "cell_type": "code",
   "execution_count": 31,
   "id": "3f1f9f8b",
   "metadata": {},
   "outputs": [
    {
     "data": {
      "text/plain": [
       "True"
      ]
     },
     "execution_count": 31,
     "metadata": {},
     "output_type": "execute_result"
    }
   ],
   "source": [
    "make_twenty(12,8)"
   ]
  },
  {
   "cell_type": "code",
   "execution_count": 32,
   "id": "f14e8636",
   "metadata": {},
   "outputs": [
    {
     "data": {
      "text/plain": [
       "False"
      ]
     },
     "execution_count": 32,
     "metadata": {},
     "output_type": "execute_result"
    }
   ],
   "source": [
    "make_twenty(2,3)"
   ]
  },
  {
   "cell_type": "markdown",
   "id": "4a1d9dd9",
   "metadata": {},
   "source": [
    "#### OLD MACDONALD: Write a function that capitalizes the first and fourth letters of a name\n",
    "     \n",
    "    old_macdonald('macdonald') --> MacDonald\n",
    "    \n",
    "Note: `'macdonald'.capitalize()` returns `'Macdonald'`"
   ]
  },
  {
   "cell_type": "code",
   "execution_count": 36,
   "id": "55ca8a30",
   "metadata": {},
   "outputs": [],
   "source": [
    "def make_capital(word, index):\n",
    "    char_list = list(word)\n",
    "    \n",
    "    for ind in index:\n",
    "        if 0 <= ind < len(word):\n",
    "            char_list[ind] = char_list[ind].upper()\n",
    "    return \"\".join(char_list)\n",
    "    "
   ]
  },
  {
   "cell_type": "code",
   "execution_count": 38,
   "id": "9bb42582",
   "metadata": {},
   "outputs": [
    {
     "data": {
      "text/plain": [
       "'MacDonald'"
      ]
     },
     "execution_count": 38,
     "metadata": {},
     "output_type": "execute_result"
    }
   ],
   "source": [
    "make_capital('macdonald', [0,3])"
   ]
  },
  {
   "cell_type": "code",
   "execution_count": 35,
   "id": "570839f9",
   "metadata": {},
   "outputs": [
    {
     "name": "stdout",
     "output_type": "stream",
     "text": [
      "Hello World\n"
     ]
    }
   ],
   "source": [
    "def capitalize_by_index(s, indices):\n",
    "    # Convert the string to a list of characters\n",
    "    char_list = list(s)\n",
    "\n",
    "    # Capitalize characters at the specified indices\n",
    "    for index in indices:\n",
    "        if 0 <= index < len(s):\n",
    "            char_list[index] = char_list[index].upper()\n",
    "\n",
    "    # Join the list back into a string\n",
    "    return ''.join(char_list)\n",
    "\n",
    "# Example usage\n",
    "print(capitalize_by_index(\"hello world\", [0, 6]))  # Capitalizes 'h' and 'w'"
   ]
  },
  {
   "cell_type": "markdown",
   "id": "e028a6a7",
   "metadata": {},
   "source": [
    "#### MASTER YODA: Given a sentence, return a sentence with the words reversed\n",
    "\n",
    "    master_yoda('I am home') --> 'home am I'\n",
    "    master_yoda('We are ready') --> 'ready are We'"
   ]
  },
  {
   "cell_type": "code",
   "execution_count": 1,
   "id": "7244b576",
   "metadata": {},
   "outputs": [],
   "source": [
    "def master_yoda(sent):\n",
    "    words = sent.split()\n",
    "    return ' '.join(words[::-1])"
   ]
  },
  {
   "cell_type": "code",
   "execution_count": 2,
   "id": "6dc376f3",
   "metadata": {},
   "outputs": [
    {
     "data": {
      "text/plain": [
       "'home am I'"
      ]
     },
     "execution_count": 2,
     "metadata": {},
     "output_type": "execute_result"
    }
   ],
   "source": [
    "master_yoda('I am home')"
   ]
  },
  {
   "cell_type": "code",
   "execution_count": 3,
   "id": "99ef6c05",
   "metadata": {},
   "outputs": [
    {
     "data": {
      "text/plain": [
       "'ready are We'"
      ]
     },
     "execution_count": 3,
     "metadata": {},
     "output_type": "execute_result"
    }
   ],
   "source": [
    "master_yoda('We are ready')"
   ]
  },
  {
   "cell_type": "markdown",
   "id": "b7493e16",
   "metadata": {},
   "source": [
    "#### ALMOST THERE: Given an integer n, return True if n is within 10 of either 100 or 200\n",
    "\n",
    "    almost_there(90) --> True\n",
    "    almost_there(104) --> True\n",
    "    almost_there(150) --> False\n",
    "    almost_there(209) --> True\n",
    "    \n",
    "NOTE: `abs(num)` returns the absolute value of a number"
   ]
  },
  {
   "cell_type": "code",
   "execution_count": null,
   "id": "5a125286",
   "metadata": {},
   "outputs": [],
   "source": []
  }
 ],
 "metadata": {
  "kernelspec": {
   "display_name": "Python 3 (ipykernel)",
   "language": "python",
   "name": "python3"
  },
  "language_info": {
   "codemirror_mode": {
    "name": "ipython",
    "version": 3
   },
   "file_extension": ".py",
   "mimetype": "text/x-python",
   "name": "python",
   "nbconvert_exporter": "python",
   "pygments_lexer": "ipython3",
   "version": "3.9.7"
  }
 },
 "nbformat": 4,
 "nbformat_minor": 5
}

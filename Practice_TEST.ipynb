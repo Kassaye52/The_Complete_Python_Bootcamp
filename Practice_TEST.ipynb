{
 "cells": [
  {
   "cell_type": "code",
   "execution_count": null,
   "id": "16752e45",
   "metadata": {},
   "outputs": [],
   "source": [
    "list1 = [1,2,3,4,5,6,7,8,9,10]"
   ]
  },
  {
   "cell_type": "code",
   "execution_count": null,
   "id": "a99736e3",
   "metadata": {},
   "outputs": [],
   "source": [
    "for num in list1:\n",
    "    print(num)"
   ]
  },
  {
   "cell_type": "code",
   "execution_count": null,
   "id": "f9bd002e",
   "metadata": {},
   "outputs": [],
   "source": [
    "for num in list1:\n",
    "    if num % 2 == 0:\n",
    "        print(num)\n",
    "    else:\n",
    "        print(\"This number is Odd\")"
   ]
  },
  {
   "cell_type": "code",
   "execution_count": null,
   "id": "5e748f0e",
   "metadata": {},
   "outputs": [],
   "source": [
    "list_sum = 0\n",
    "\n",
    "for num in list1:\n",
    "    list_sum =  list_sum + num\n",
    "    print(list_sum)"
   ]
  },
  {
   "cell_type": "code",
   "execution_count": null,
   "id": "30a34f30",
   "metadata": {},
   "outputs": [],
   "source": [
    "for num in list1:\n",
    "    list_sum = list_sum + num\n",
    "print(list_sum)"
   ]
  },
  {
   "cell_type": "code",
   "execution_count": null,
   "id": "ac893e21",
   "metadata": {},
   "outputs": [],
   "source": [
    "250*40*30"
   ]
  },
  {
   "cell_type": "code",
   "execution_count": null,
   "id": "57c66798",
   "metadata": {},
   "outputs": [],
   "source": [
    "lsum = 0\n",
    "\n",
    "for num in list1:\n",
    "    lsum += num\n",
    "print(lsum)"
   ]
  },
  {
   "cell_type": "code",
   "execution_count": null,
   "id": "6a74c6b2",
   "metadata": {},
   "outputs": [],
   "source": [
    "for letter in \"This is a string\":\n",
    "    print(letter)"
   ]
  },
  {
   "cell_type": "code",
   "execution_count": null,
   "id": "71481e09",
   "metadata": {},
   "outputs": [],
   "source": [
    "tup = (1, 2, 3, 4, 5)\n",
    "\n",
    "for t in tup:\n",
    "    print(t)"
   ]
  },
  {
   "cell_type": "code",
   "execution_count": null,
   "id": "dd3808d4",
   "metadata": {},
   "outputs": [],
   "source": [
    "list2 = [(2,4),(6,8),(10,12)]"
   ]
  },
  {
   "cell_type": "code",
   "execution_count": null,
   "id": "f7d2dee0",
   "metadata": {},
   "outputs": [],
   "source": [
    "for t in list2:\n",
    "    print(t)"
   ]
  },
  {
   "cell_type": "code",
   "execution_count": null,
   "id": "95a1a43d",
   "metadata": {},
   "outputs": [],
   "source": [
    "for (t1, t2) in list2:\n",
    "    print(t1)"
   ]
  },
  {
   "cell_type": "code",
   "execution_count": null,
   "id": "c9740a7f",
   "metadata": {},
   "outputs": [],
   "source": [
    "d = {'k1':1,'k2':2,'k3':3}"
   ]
  },
  {
   "cell_type": "code",
   "execution_count": null,
   "id": "00e09d21",
   "metadata": {},
   "outputs": [],
   "source": [
    "for item in d:\n",
    "    print(item)"
   ]
  },
  {
   "cell_type": "code",
   "execution_count": null,
   "id": "799cf1a6",
   "metadata": {},
   "outputs": [],
   "source": [
    "d.items()"
   ]
  },
  {
   "cell_type": "code",
   "execution_count": null,
   "id": "630281dc",
   "metadata": {},
   "outputs": [],
   "source": [
    "d.keys()"
   ]
  },
  {
   "cell_type": "code",
   "execution_count": null,
   "id": "98c9895c",
   "metadata": {},
   "outputs": [],
   "source": [
    "d.values()"
   ]
  },
  {
   "cell_type": "code",
   "execution_count": null,
   "id": "35dc085e",
   "metadata": {},
   "outputs": [],
   "source": [
    "for k,v in d.items():\n",
    "    print(k)\n",
    "    print(v)"
   ]
  },
  {
   "cell_type": "code",
   "execution_count": null,
   "id": "73425025",
   "metadata": {},
   "outputs": [],
   "source": [
    "list(d.keys())"
   ]
  },
  {
   "cell_type": "code",
   "execution_count": null,
   "id": "4f875a8b",
   "metadata": {},
   "outputs": [],
   "source": [
    "list(d.values())"
   ]
  },
  {
   "cell_type": "code",
   "execution_count": null,
   "id": "77c855a2",
   "metadata": {},
   "outputs": [],
   "source": [
    "sorted(d.values())"
   ]
  },
  {
   "cell_type": "code",
   "execution_count": 2,
   "id": "252d2825",
   "metadata": {},
   "outputs": [
    {
     "name": "stdout",
     "output_type": "stream",
     "text": [
      "This is currently:  0\n",
      "x is still less than 10, adding 1 to x 0\n",
      "This is currently:  1\n",
      "x is still less than 10, adding 1 to x 1\n",
      "This is currently:  2\n",
      "x is still less than 10, adding 1 to x 2\n",
      "This is currently:  3\n",
      "x is still less than 10, adding 1 to x 3\n",
      "This is currently:  4\n",
      "x is still less than 10, adding 1 to x 4\n",
      "This is currently:  5\n",
      "x is still less than 10, adding 1 to x 5\n",
      "This is currently:  6\n",
      "x is still less than 10, adding 1 to x 6\n",
      "This is currently:  7\n",
      "x is still less than 10, adding 1 to x 7\n",
      "This is currently:  8\n",
      "x is still less than 10, adding 1 to x 8\n",
      "This is currently:  9\n",
      "x is still less than 10, adding 1 to x 9\n"
     ]
    }
   ],
   "source": [
    "x = 0\n",
    "\n",
    "while x < 10:\n",
    "    print(\"This is currently: \", x)\n",
    "    print(\"x is still less than 10, adding 1 to x\", x)\n",
    "    x+=1"
   ]
  },
  {
   "cell_type": "code",
   "execution_count": 3,
   "id": "231f3289",
   "metadata": {},
   "outputs": [
    {
     "name": "stdout",
     "output_type": "stream",
     "text": [
      "This is currently:  0\n",
      "x is still less than 10, adding 1 to x 0\n",
      "This is currently:  1\n",
      "x is still less than 10, adding 1 to x 1\n",
      "This is currently:  2\n",
      "x is still less than 10, adding 1 to x 2\n",
      "This is currently:  3\n",
      "x is still less than 10, adding 1 to x 3\n",
      "This is currently:  4\n",
      "x is still less than 10, adding 1 to x 4\n",
      "This is currently:  5\n",
      "x is still less than 10, adding 1 to x 5\n",
      "This is currently:  6\n",
      "x is still less than 10, adding 1 to x 6\n",
      "This is currently:  7\n",
      "x is still less than 10, adding 1 to x 7\n",
      "This is currently:  8\n",
      "x is still less than 10, adding 1 to x 8\n",
      "This is currently:  9\n",
      "x is still less than 10, adding 1 to x 9\n",
      "The loop is done\n"
     ]
    }
   ],
   "source": [
    "x = 0\n",
    "\n",
    "while x < 10:\n",
    "    print(\"This is currently: \", x)\n",
    "    print(\"x is still less than 10, adding 1 to x\", x)\n",
    "    x+=1\n",
    "else:\n",
    "    print(\"The loop is done\")"
   ]
  },
  {
   "cell_type": "code",
   "execution_count": 4,
   "id": "24b0e5c3",
   "metadata": {},
   "outputs": [
    {
     "name": "stdout",
     "output_type": "stream",
     "text": [
      "This is currently:  0\n",
      "x is still less than 10, adding 1 to x 0\n",
      "Continuing ...\n",
      "This is currently:  1\n",
      "x is still less than 10, adding 1 to x 1\n",
      "Continuing ...\n",
      "This is currently:  2\n",
      "x is still less than 10, adding 1 to x 2\n",
      "Breaking since x == 3\n"
     ]
    }
   ],
   "source": [
    "x = 0\n",
    "\n",
    "while x < 10:\n",
    "    print(\"This is currently: \", x)\n",
    "    print(\"x is still less than 10, adding 1 to x\", x)\n",
    "    x+=1\n",
    "    if x == 3:\n",
    "        print(\"Breaking since x == 3\")\n",
    "        break\n",
    "    else:\n",
    "        print(\"Continuing ...\")\n",
    "        continue "
   ]
  },
  {
   "cell_type": "code",
   "execution_count": null,
   "id": "1cb0b058",
   "metadata": {},
   "outputs": [],
   "source": []
  }
 ],
 "metadata": {
  "kernelspec": {
   "display_name": "Python 3 (ipykernel)",
   "language": "python",
   "name": "python3"
  },
  "language_info": {
   "codemirror_mode": {
    "name": "ipython",
    "version": 3
   },
   "file_extension": ".py",
   "mimetype": "text/x-python",
   "name": "python",
   "nbconvert_exporter": "python",
   "pygments_lexer": "ipython3",
   "version": "3.9.7"
  }
 },
 "nbformat": 4,
 "nbformat_minor": 5
}
